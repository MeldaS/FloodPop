{
 "cells": [
  {
   "cell_type": "markdown",
   "metadata": {
    "colab_type": "text",
    "id": "4dnVKkE1JzRv"
   },
   "source": [
    "## Version 11"
   ]
  },
  {
   "cell_type": "markdown",
   "metadata": {
    "colab_type": "text",
    "id": "lZWq3AiiJzRw"
   },
   "source": [
    "Updates from v10:\n",
    "- Added option to read in previously processed countries from a separate folder \n",
    "- Added in custom code for Sudan / South Sudan in adm0_processing_2016 function"
   ]
  },
  {
   "cell_type": "markdown",
   "metadata": {
    "colab_type": "text",
    "id": "OXYFuYUJJzRw"
   },
   "source": [
    "<a id='Instruction'></a>\n",
    "### Instructions\n",
    "- [Change path names here](#Paths)\n",
    "- [If there are previously processed results, read them in here](#Previous)\n",
    "- [Run all cells until here, where you can then select the appropriate section](#TOC)"
   ]
  },
  {
   "cell_type": "markdown",
   "metadata": {
    "colab_type": "text",
    "id": "odnwA1wk-Lgp"
   },
   "source": [
    "## Google CoLab: Install packages & mount drive"
   ]
  },
  {
   "cell_type": "code",
   "execution_count": 1,
   "metadata": {
    "colab": {},
    "colab_type": "code",
    "id": "hnGmEHmcSYId"
   },
   "outputs": [],
   "source": [
    "# !pip install country_converter"
   ]
  },
  {
   "cell_type": "code",
   "execution_count": 2,
   "metadata": {
    "colab": {},
    "colab_type": "code",
    "id": "psSKxWnTSdZ2"
   },
   "outputs": [],
   "source": [
    "# !pip install geopandas"
   ]
  },
  {
   "cell_type": "code",
   "execution_count": 3,
   "metadata": {
    "colab": {},
    "colab_type": "code",
    "id": "cfTr6oOjSfCu"
   },
   "outputs": [],
   "source": [
    "# !pip install rasterio"
   ]
  },
  {
   "cell_type": "code",
   "execution_count": 4,
   "metadata": {
    "colab": {},
    "colab_type": "code",
    "id": "1zBM1434SfHT"
   },
   "outputs": [],
   "source": [
    "# !pip install pycountry"
   ]
  },
  {
   "cell_type": "code",
   "execution_count": 5,
   "metadata": {
    "colab": {},
    "colab_type": "code",
    "id": "bv6evgVV6kgy"
   },
   "outputs": [],
   "source": [
    "# from google.colab import drive\n",
    "# drive.mount('/content/drive')"
   ]
  },
  {
   "cell_type": "markdown",
   "metadata": {
    "colab_type": "text",
    "id": "ZnbOgY2O-Ve9"
   },
   "source": [
    "## Import packages"
   ]
  },
  {
   "cell_type": "code",
   "execution_count": 1,
   "metadata": {},
   "outputs": [],
   "source": [
    "import pandas as pd "
   ]
  },
  {
   "cell_type": "code",
   "execution_count": 2,
   "metadata": {
    "colab": {},
    "colab_type": "code",
    "id": "eBdzLdJBJzRz",
    "scrolled": true
   },
   "outputs": [],
   "source": [
    "import os, time\n",
    "import country_converter as coco\n",
    "\n",
    "import shapely\n",
    "from osgeo import gdal\n",
    "import pandas as pd \n",
    "import geopandas as gpd\n",
    "import matplotlib\n",
    "import matplotlib.pyplot as plt\n",
    "import numpy as np\n",
    "from pathlib import Path \n",
    "import pycountry \n",
    "\n",
    "import rasterio as rs\n",
    "from rasterio.plot import show\n",
    "from rasterio.enums import Resampling\n",
    "from rasterio.plot import plotting_extent\n",
    "from rasterio.merge import merge\n",
    "import rasterio.mask\n",
    "from rasterio import shutil as rio_shutil\n",
    "from rasterio.vrt import WarpedVRT\n",
    "\n",
    "def tPrint(s):\n",
    "    print(\"%s\\t%s\" % (time.strftime(\"%H:%M:%S\"), s))"
   ]
  },
  {
   "cell_type": "markdown",
   "metadata": {
    "colab_type": "text",
    "id": "bF3w4lURJzR2"
   },
   "source": [
    "<a id='Paths'></a>\n",
    "## Defining paths\n",
    "*Change the path in the first cell to the GLOBAL folder containing file contents.*  \n",
    "*Change the path in the second cell to the a location where a few folders can be created to save outputs.*\n",
    "\n",
    "After changing paths:\n",
    "- [If there are previously processed results, read them in here](#Previous)\n",
    "- [Otherwise, run all cells until here, where you can then select the appropriate section](#TOC)\n"
   ]
  },
  {
   "cell_type": "code",
   "execution_count": 3,
   "metadata": {
    "colab": {},
    "colab_type": "code",
    "id": "DOX8Oxi8JzR3",
    "scrolled": true
   },
   "outputs": [],
   "source": [
    "#path = Path('/home/public/Data/GLOBAL') #Change Path \n",
    "path = Path('/Users/meldasalhab/Google_Drive/World_Bank_Project/GLOBAL') #Change Path \n",
    "#path = Path('/content/drive/My Drive/World_Bank_Project/GLOBAL') #Change Path "
   ]
  },
  {
   "cell_type": "code",
   "execution_count": 4,
   "metadata": {},
   "outputs": [
    {
     "data": {
      "text/plain": [
       "PosixPath('/Users/meldasalhab/Google_Drive/World_Bank_Project/GLOBAL')"
      ]
     },
     "execution_count": 4,
     "metadata": {},
     "output_type": "execute_result"
    }
   ],
   "source": [
    "path"
   ]
  },
  {
   "cell_type": "code",
   "execution_count": 5,
   "metadata": {
    "colab": {},
    "colab_type": "code",
    "id": "fTFX5I3IJzR6",
    "scrolled": true
   },
   "outputs": [],
   "source": [
    "#outputPath = Path('/home/wb411133/data/Projects/FATHOM') #Change Path \n",
    "outputPath = Path('/Users/meldasalhab/Google_Drive/World_Bank_Project') #Change Path \n",
    "# outputPath = Path('/content/drive/My Drive/World_Bank_Project') #Change Path \n"
   ]
  },
  {
   "cell_type": "code",
   "execution_count": 6,
   "metadata": {
    "colab": {
     "base_uri": "https://localhost:8080/",
     "height": 102
    },
    "colab_type": "code",
    "id": "vpUf2oZEJzR8",
    "outputId": "434f5f03-72b4-45ab-c6d7-537dd37a8820"
   },
   "outputs": [
    {
     "name": "stdout",
     "output_type": "stream",
     "text": [
      "/Users/meldasalhab/Google_Drive/World_Bank_Project/GLOBAL/FLOOD_SSBN/v2_2019\n",
      "/Users/meldasalhab/Google_Drive/World_Bank_Project/GLOBAL/FLOOD_SSBN/v1_2016\n",
      "/Users/meldasalhab/Google_Drive/World_Bank_Project/GLOBAL/Population/WorldPop_PPP_2020/MOSAIC_ppp_prj_2020\n",
      "/Users/meldasalhab/Google_Drive/World_Bank_Project/GLOBAL/GMGD world admin/newold_geo_code2_povdata_v6.shp\n",
      "/Users/meldasalhab/Google_Drive/World_Bank_Project/GLOBAL/Coastal_flood/ss_muis_rp0100m.tif\n"
     ]
    }
   ],
   "source": [
    "# World Admin\n",
    "worldAdmin_Folder = 'GMGD world admin'\n",
    "admin_File = 'newold_geo_code2_povdata_v6.shp'\n",
    "\n",
    "reproj_Folder = 'GMGD_reproj'\n",
    "admin_File_proj = 'newold_geo_code2_povdata_v6_4326.shp'\n",
    "\n",
    "# Pluvial and fluvial flood files (Fathom) - 2019\n",
    "flood_Folder = 'FLOOD_SSBN'\n",
    "flood_subFolder_2019 = 'v2_2019'\n",
    "fluvialFlood_Folder = 'fluvial_undefended'\n",
    "fluvialFlood_FileName = 'FU_1in100.tif' \n",
    "pluvialFlood_Folder = 'pluvial'\n",
    "pluvialFlood_FileName = 'P_1in100.tif' \n",
    "\n",
    "# Pluvial and fluvial flood files (Fathom) - 2016\n",
    "flood_subFolder_2016 = 'v1_2016'\n",
    "## The pluvial and fluvial folder names are prepended with each country's ISO2 code\n",
    "## This is managed in the 2016 analysis loop\n",
    "\n",
    "# Coastal flood files\n",
    "coastalFlood_Folder = 'Coastal_flood'\n",
    "coastalFlood_File = \"ss_muis_rp0100m.tif\"\n",
    "\n",
    "# Population data\n",
    "pop_Folder = 'Population'\n",
    "pop_subFolder = 'WorldPop_PPP_2020'\n",
    "pop_subsubFolder = 'MOSAIC_ppp_prj_2020'\n",
    "\n",
    "# Folder paths\n",
    "flood_path_2019 = path / flood_Folder / flood_subFolder_2019 \n",
    "flood_path_2016 = path / flood_Folder / flood_subFolder_2016 \n",
    "population_path = path / pop_Folder / pop_subFolder / pop_subsubFolder \n",
    "\n",
    "# Global files paths\n",
    "adm_path_reproj = path / worldAdmin_Folder / reproj_Folder / admin_File_proj\n",
    "adm_path = path / worldAdmin_Folder / admin_File\n",
    "coastalFlood_path = path / coastalFlood_Folder / coastalFlood_File\n",
    " \n",
    "print(flood_path_2019)\n",
    "print(flood_path_2016)\n",
    "print(population_path)\n",
    "print(adm_path)\n",
    "print(coastalFlood_path)"
   ]
  },
  {
   "cell_type": "markdown",
   "metadata": {
    "colab_type": "text",
    "id": "Ly4wV4KuJzSE"
   },
   "source": [
    "## Creating folders for intermediate & final outputs\n"
   ]
  },
  {
   "cell_type": "code",
   "execution_count": 7,
   "metadata": {
    "colab": {
     "base_uri": "https://localhost:8080/",
     "height": 34
    },
    "colab_type": "code",
    "id": "2H7Pu0ZsJzSE",
    "outputId": "bd1d75e8-ae6f-42e0-fa58-1c975d222900"
   },
   "outputs": [
    {
     "name": "stdout",
     "output_type": "stream",
     "text": [
      "Already exists\n"
     ]
    }
   ],
   "source": [
    "# Creating folder for all outputs\n",
    "output_Folder = 'Outputs'\n",
    "output_FolderPath = outputPath / output_Folder\n",
    "try: \n",
    "    output_FolderPath.mkdir()\n",
    "except FileExistsError:\n",
    "    print('Already exists')\n",
    "    "
   ]
  },
  {
   "cell_type": "code",
   "execution_count": 8,
   "metadata": {
    "colab": {
     "base_uri": "https://localhost:8080/",
     "height": 34
    },
    "colab_type": "code",
    "id": "LxLhd_OaJzSJ",
    "outputId": "14f34711-ec41-47c9-d2f9-706a057f0dbf"
   },
   "outputs": [
    {
     "name": "stdout",
     "output_type": "stream",
     "text": [
      "Already exists\n"
     ]
    }
   ],
   "source": [
    "# Creating folder for raster outputs\n",
    "Raster_outputFolder = 'FloodPop_Countries'\n",
    "Raster_outputFolderPath = output_FolderPath / Raster_outputFolder\n",
    "try: \n",
    "    Raster_outputFolderPath.mkdir()\n",
    "except FileExistsError:\n",
    "    print('Already exists')\n",
    "    "
   ]
  },
  {
   "cell_type": "code",
   "execution_count": 9,
   "metadata": {
    "colab": {
     "base_uri": "https://localhost:8080/",
     "height": 34
    },
    "colab_type": "code",
    "id": "1u25egpqJzSL",
    "outputId": "bf9661dc-e629-4ead-8a4d-1b377121efc5"
   },
   "outputs": [
    {
     "name": "stdout",
     "output_type": "stream",
     "text": [
      "Already exists\n"
     ]
    }
   ],
   "source": [
    "# Creating folder for coastal flood country files\n",
    "cFlood_outputFolder = 'CoastalFlood_Countries'\n",
    "cFlood_outputFolderPath = output_FolderPath / cFlood_outputFolder\n",
    "try: \n",
    "    cFlood_outputFolderPath.mkdir()\n",
    "except FileExistsError:\n",
    "    print('Already exists')"
   ]
  },
  {
   "cell_type": "code",
   "execution_count": 10,
   "metadata": {
    "colab": {
     "base_uri": "https://localhost:8080/",
     "height": 34
    },
    "colab_type": "code",
    "id": "HbADi7Q7JzSN",
    "outputId": "9b5f5777-51bf-4b73-ac66-a8c5e526acb6"
   },
   "outputs": [
    {
     "name": "stdout",
     "output_type": "stream",
     "text": [
      "Already exists\n"
     ]
    }
   ],
   "source": [
    "# Creating folder for aggregated flood country files (fluvial + pluvial + coastal)\n",
    "Flood_outputFolder = 'Flood_Countries'\n",
    "Flood_outputFolderPath = output_FolderPath / Flood_outputFolder\n",
    "try: \n",
    "    Flood_outputFolderPath.mkdir()\n",
    "except FileExistsError:\n",
    "    print('Already exists')"
   ]
  },
  {
   "cell_type": "code",
   "execution_count": 11,
   "metadata": {
    "colab": {
     "base_uri": "https://localhost:8080/",
     "height": 34
    },
    "colab_type": "code",
    "id": "Y6qCL-pbJzSP",
    "outputId": "09d2aa61-51a6-42b1-a732-c39c38bfc7ac"
   },
   "outputs": [
    {
     "name": "stdout",
     "output_type": "stream",
     "text": [
      "Already exists\n"
     ]
    }
   ],
   "source": [
    "# Creating folder for fluvial and pluvial merged flood files\n",
    "PopAligned_outputFolder = 'Pop_aligned'\n",
    "PopAligned_outputFolderPath = output_FolderPath / PopAligned_outputFolder\n",
    "try: \n",
    "    PopAligned_outputFolderPath.mkdir()\n",
    "except FileExistsError:\n",
    "    print('Already exists')"
   ]
  },
  {
   "cell_type": "code",
   "execution_count": 12,
   "metadata": {
    "colab": {
     "base_uri": "https://localhost:8080/",
     "height": 34
    },
    "colab_type": "code",
    "id": "TtGT3En5JzSS",
    "outputId": "14e16340-507d-4f7a-ba93-14e35ac06692"
   },
   "outputs": [
    {
     "name": "stdout",
     "output_type": "stream",
     "text": [
      "Already exists\n"
     ]
    }
   ],
   "source": [
    "# Creating folder for final results\n",
    "Results_outputFolder = 'Results'\n",
    "Results_outputFolderPath = output_FolderPath / Results_outputFolder\n",
    "try: \n",
    "    Results_outputFolderPath.mkdir()\n",
    "except FileExistsError:\n",
    "    print('Already exists')"
   ]
  },
  {
   "cell_type": "code",
   "execution_count": 13,
   "metadata": {
    "colab": {
     "base_uri": "https://localhost:8080/",
     "height": 34
    },
    "colab_type": "code",
    "id": "sxqGHKLFJzSU",
    "outputId": "135197fb-b0d7-4e21-b3cf-3bc09e44a6e7"
   },
   "outputs": [
    {
     "name": "stdout",
     "output_type": "stream",
     "text": [
      "Already exists\n"
     ]
    }
   ],
   "source": [
    "# Creating folder for fluvial and pluvial merged flood files\n",
    "FP_outputFolder = 'FluvialPluvial'\n",
    "FP_outputFolderPath = output_FolderPath / FP_outputFolder\n",
    "try: \n",
    "    FP_outputFolderPath.mkdir()\n",
    "except FileExistsError:\n",
    "    print('Already exists')"
   ]
  },
  {
   "cell_type": "markdown",
   "metadata": {
    "colab_type": "text",
    "id": "nARiFw2DJzR_"
   },
   "source": [
    "<a id='Previous'></a>\n",
    "## Previously Processed Countries\n",
    "If there are any previously processed countries, uncomment the second cell below. \n",
    "Otherwise, make sure the cell is commented out.\n",
    "\n",
    "After commenting/uncommenting the previously processed:\n",
    "- Run all cells until [here](#TOC), where you can then select the appropriate section\n"
   ]
  },
  {
   "cell_type": "code",
   "execution_count": 18,
   "metadata": {
    "colab": {},
    "colab_type": "code",
    "id": "3uYVt3exJzR_"
   },
   "outputs": [],
   "source": [
    "previouslyProcessed = []"
   ]
  },
  {
   "cell_type": "code",
   "execution_count": 21,
   "metadata": {
    "colab": {},
    "colab_type": "code",
    "id": "0cjL3yPhJzSB"
   },
   "outputs": [],
   "source": [
    "# Comment out below if previously processed results do not exist or if you wish to rewrite\n",
    "July_processed = outputPath / 'Results_20200714' /  \"processed_countries.shp\"\n",
    "processed = gpd.read_file(July_processed) \n",
    "\n",
    "# processed = gpd.read_file(Results_outputFolderPath / \"processed_countries.shp\")\n",
    "previouslyProcessed = processed['ISO3'].unique()"
   ]
  },
  {
   "cell_type": "markdown",
   "metadata": {
    "colab_type": "text",
    "id": "PeqA9Ww2JzSW"
   },
   "source": [
    "## Flood Bins\n",
    "0. No risk: x = 0\n",
    "1. Limited risk: x <= 0.15\n",
    "2. Moderate risk: 0.15 < x <= 0.5\n",
    "3. High risk: 0.5 < x <= 1.5\n",
    "4. Very high risk: x > 1.5\n",
    "5. Water body: x >= 999\n"
   ]
  },
  {
   "cell_type": "code",
   "execution_count": 14,
   "metadata": {
    "colab": {},
    "colab_type": "code",
    "id": "rIwwEOpBJzSW",
    "scrolled": true
   },
   "outputs": [],
   "source": [
    "flood_bins = [1e-10,0.15,0.5,1.5,998,10000] \n",
    "# Right=True when digitizing to include right bin edge\n",
    "# Note: 0 contains flood depths of 0 up to 0.0000000001 -> no flood\n",
    "numberCategories = len(flood_bins)"
   ]
  },
  {
   "cell_type": "markdown",
   "metadata": {
    "colab_type": "text",
    "id": "0WtZOGfBJzSb"
   },
   "source": [
    "## Results dataframe"
   ]
  },
  {
   "cell_type": "code",
   "execution_count": 15,
   "metadata": {
    "colab": {},
    "colab_type": "code",
    "id": "rVwM4GE2JzSb",
    "scrolled": true
   },
   "outputs": [],
   "source": [
    "# An empty dataframe to store the results of each loop\n",
    "result = pd.DataFrame(columns = ['OBJECTID',\n",
    "                                '0-NoRiskPop',\n",
    "                                '1-LowRiskPop', \n",
    "                                '2-ModerateRiskPop', \n",
    "                                '3-HighRiskPop', \n",
    "                                '4-VeryHighRiskPop', \n",
    "                                '5-WaterBodyPop',\n",
    "                                'ISO3']).set_index('OBJECTID')"
   ]
  },
  {
   "cell_type": "markdown",
   "metadata": {
    "colab_type": "text",
    "id": "n4-9a9HFJzSd"
   },
   "source": [
    "## Admin shapefiles"
   ]
  },
  {
   "cell_type": "code",
   "execution_count": 1,
   "metadata": {
    "colab": {},
    "colab_type": "code",
    "id": "ERkdNbIYJzSd",
    "scrolled": true
   },
   "outputs": [],
   "source": [
    "# If previously reprojected file exists:\n",
    "adm = gpd.read_file(adm_path_reproj) #already reprojected\n"
   ]
  },
  {
   "cell_type": "code",
   "execution_count": 18,
   "metadata": {
    "colab": {},
    "colab_type": "code",
    "id": "Q64gLTrcJzSg"
   },
   "outputs": [],
   "source": [
    "# If not:\n",
    "#adm = gpd.read_file(adm_path)\n",
    "#adm = adm[['code','sample','region','geo_code2','geometry']]\n",
    "# Reproject to EPSG:4326\n",
    "#adm = adm.to_crs('EPSG:4326')"
   ]
  },
  {
   "cell_type": "code",
   "execution_count": 108,
   "metadata": {
    "colab": {},
    "colab_type": "code",
    "id": "6yza0RF6JzSi"
   },
   "outputs": [],
   "source": [
    "# Correcting country codes\n",
    "adm['ISO3'] = adm['code']\n",
    "adm.ISO3 = adm.ISO3.replace('ADO', 'AND')\n",
    "adm.ISO3 = adm.ISO3.replace('IMY', 'IMN')\n",
    "adm.ISO3 = adm.ISO3.replace('URU', 'URY')\n",
    "adm.ISO3 = adm.ISO3.replace('VNZ', 'VEN')\n",
    "adm.ISO3 = adm.ISO3.replace('MOR', 'MAR')\n",
    "#Kosovo WorldPop was originally KOS, then manually changed to XKX on the server"
   ]
  },
  {
   "cell_type": "markdown",
   "metadata": {
    "colab_type": "text",
    "id": "I26r2owMJzSk"
   },
   "source": [
    "## Matching adm country names to folder/file names"
   ]
  },
  {
   "cell_type": "code",
   "execution_count": 109,
   "metadata": {
    "colab": {},
    "colab_type": "code",
    "id": "F5rCOXECJzSk"
   },
   "outputs": [],
   "source": [
    "# Get country codes from adm df\n",
    "codeDF = adm[['ISO3']]\n",
    "codeDF = codeDF.drop_duplicates(subset =\"ISO3\")\n",
    "codeDF = codeDF.sort_values(by=['ISO3'])\n",
    "\n",
    "# Put adm country names in list for easier comparison\n",
    "admCodeList = codeDF.ISO3.values.tolist()\n",
    "admList = coco.convert(names=admCodeList, to='name_short')\n",
    "#admList.sort()\n",
    "\n",
    "# Add country names to df\n",
    "codeDF['ADM0_NAME'] = admList\n",
    "adm = adm.merge(codeDF, on='ISO3', how='left')"
   ]
  },
  {
   "cell_type": "code",
   "execution_count": 25,
   "metadata": {
    "colab": {},
    "colab_type": "code",
    "id": "76yMk0WfJzSm",
    "scrolled": true
   },
   "outputs": [],
   "source": [
    "# Get folder names for the Fathom data\n",
    "list2019 = [os.path.basename(str(x)) for x in flood_path_2019.iterdir() if x.is_dir()]\n",
    "list2016 = [os.path.basename(str(x)) for x in flood_path_2016.iterdir() if x.is_dir()]"
   ]
  },
  {
   "cell_type": "code",
   "execution_count": 27,
   "metadata": {
    "colab": {},
    "colab_type": "code",
    "id": "a1t31uM0JzSo",
    "scrolled": true
   },
   "outputs": [
    {
     "name": "stderr",
     "output_type": "stream",
     "text": [
      "WARNING:root:Could not find any correspondence for Aruba in list_b\n",
      "WARNING:root:Could not find any correspondence for Afghanistan in list_b\n",
      "WARNING:root:Could not find any correspondence for Angola in list_b\n",
      "WARNING:root:Could not find any correspondence for Albania in list_b\n",
      "WARNING:root:Could not find any correspondence for Andorra in list_b\n",
      "WARNING:root:Could not find any correspondence for United Arab Emirates in list_b\n",
      "WARNING:root:Could not find any correspondence for Argentina in list_b\n",
      "WARNING:root:Could not find any correspondence for Armenia in list_b\n",
      "WARNING:root:Could not find any correspondence for American Samoa in list_b\n",
      "WARNING:root:Could not find any correspondence for Antigua and Barbuda in list_b\n",
      "WARNING:root:Could not find any correspondence for Australia in list_b\n",
      "WARNING:root:Could not find any correspondence for Austria in list_b\n",
      "WARNING:root:Could not find any correspondence for Azerbaijan in list_b\n",
      "WARNING:root:Could not find any correspondence for Burundi in list_b\n",
      "WARNING:root:Could not find any correspondence for Belgium in list_b\n",
      "WARNING:root:Could not find any correspondence for Benin in list_b\n",
      "WARNING:root:Could not find any correspondence for Burkina Faso in list_b\n",
      "WARNING:root:Could not find any correspondence for Bangladesh in list_b\n",
      "WARNING:root:Could not find any correspondence for Bulgaria in list_b\n",
      "WARNING:root:Could not find any correspondence for Bahrain in list_b\n",
      "WARNING:root:Could not find any correspondence for Bahamas in list_b\n",
      "WARNING:root:Could not find any correspondence for Bosnia and Herzegovina in list_b\n",
      "WARNING:root:Could not find any correspondence for Belarus in list_b\n",
      "WARNING:root:Could not find any correspondence for Belize in list_b\n",
      "WARNING:root:Could not find any correspondence for Bermuda in list_b\n",
      "WARNING:root:Could not find any correspondence for Bolivia in list_b\n",
      "WARNING:root:Could not find any correspondence for Brazil in list_b\n",
      "WARNING:root:Could not find any correspondence for Barbados in list_b\n",
      "WARNING:root:Could not find any correspondence for Brunei Darussalam in list_b\n",
      "WARNING:root:Could not find any correspondence for Bhutan in list_b\n",
      "WARNING:root:Could not find any correspondence for Botswana in list_b\n",
      "WARNING:root:Could not find any correspondence for Central African Republic in list_b\n",
      "WARNING:root:Could not find any correspondence for Canada in list_b\n",
      "WARNING:root:Could not find any correspondence for Switzerland in list_b\n",
      "WARNING:root:Could not find any correspondence for Chile in list_b\n",
      "WARNING:root:Could not find any correspondence for China in list_b\n",
      "WARNING:root:Could not find any correspondence for Cote d'Ivoire in list_b\n",
      "WARNING:root:Could not find any correspondence for Cameroon in list_b\n",
      "WARNING:root:Could not find any correspondence for DR Congo in list_b\n",
      "WARNING:root:Could not find any correspondence for Congo Republic in list_b\n",
      "WARNING:root:Could not find any correspondence for Colombia in list_b\n",
      "WARNING:root:Could not find any correspondence for Comoros in list_b\n",
      "WARNING:root:Could not find any correspondence for Cabo Verde in list_b\n",
      "WARNING:root:Could not find any correspondence for Costa Rica in list_b\n",
      "WARNING:root:Could not find any correspondence for Cuba in list_b\n",
      "WARNING:root:Could not find any correspondence for Curacao in list_b\n",
      "WARNING:root:Could not find any correspondence for Cayman Islands in list_b\n",
      "WARNING:root:Could not find any correspondence for Cyprus in list_b\n",
      "WARNING:root:Could not find any correspondence for Czech Republic in list_b\n",
      "WARNING:root:Could not find any correspondence for Germany in list_b\n",
      "WARNING:root:Could not find any correspondence for Djibouti in list_b\n",
      "WARNING:root:Could not find any correspondence for Dominica in list_b\n",
      "WARNING:root:Could not find any correspondence for Denmark in list_b\n",
      "WARNING:root:Could not find any correspondence for Dominican Republic in list_b\n",
      "WARNING:root:Could not find any correspondence for Algeria in list_b\n",
      "WARNING:root:Could not find any correspondence for Ecuador in list_b\n",
      "WARNING:root:Could not find any correspondence for Egypt in list_b\n",
      "WARNING:root:Could not find any correspondence for Eritrea in list_b\n",
      "WARNING:root:Could not find any correspondence for Spain in list_b\n",
      "WARNING:root:Could not find any correspondence for Estonia in list_b\n",
      "WARNING:root:Could not find any correspondence for Ethiopia in list_b\n",
      "WARNING:root:Could not find any correspondence for Finland in list_b\n",
      "WARNING:root:Could not find any correspondence for Fiji in list_b\n",
      "WARNING:root:Could not find any correspondence for France in list_b\n",
      "WARNING:root:Could not find any correspondence for Faeroe Islands in list_b\n",
      "WARNING:root:Could not find any correspondence for Micronesia, Fed. Sts. in list_b\n",
      "WARNING:root:Could not find any correspondence for Gabon in list_b\n",
      "WARNING:root:Could not find any correspondence for United Kingdom in list_b\n",
      "WARNING:root:Could not find any correspondence for Georgia in list_b\n",
      "WARNING:root:Could not find any correspondence for Ghana in list_b\n",
      "WARNING:root:Could not find any correspondence for Guinea in list_b\n",
      "WARNING:root:Could not find any correspondence for Gambia in list_b\n",
      "WARNING:root:Could not find any correspondence for Guinea-Bissau in list_b\n",
      "WARNING:root:Could not find any correspondence for Equatorial Guinea in list_b\n",
      "WARNING:root:Could not find any correspondence for Greece in list_b\n",
      "WARNING:root:Could not find any correspondence for Grenada in list_b\n",
      "WARNING:root:Could not find any correspondence for Greenland in list_b\n",
      "WARNING:root:Could not find any correspondence for Guatemala in list_b\n",
      "WARNING:root:Could not find any correspondence for Guam in list_b\n",
      "WARNING:root:Could not find any correspondence for Guyana in list_b\n",
      "WARNING:root:Could not find any correspondence for Hong Kong in list_b\n",
      "WARNING:root:Could not find any correspondence for Honduras in list_b\n",
      "WARNING:root:Could not find any correspondence for Croatia in list_b\n",
      "WARNING:root:Could not find any correspondence for Haiti in list_b\n",
      "WARNING:root:Could not find any correspondence for Hungary in list_b\n",
      "WARNING:root:Could not find any correspondence for Indonesia in list_b\n",
      "WARNING:root:Could not find any correspondence for Isle of Man in list_b\n",
      "WARNING:root:Could not find any correspondence for India in list_b\n",
      "WARNING:root:Could not find any correspondence for Ireland in list_b\n",
      "WARNING:root:Could not find any correspondence for Iran in list_b\n",
      "WARNING:root:Could not find any correspondence for Iraq in list_b\n",
      "WARNING:root:Could not find any correspondence for Iceland in list_b\n",
      "WARNING:root:Could not find any correspondence for Israel in list_b\n",
      "WARNING:root:Could not find any correspondence for Italy in list_b\n",
      "WARNING:root:Could not find any correspondence for Jamaica in list_b\n",
      "WARNING:root:Could not find any correspondence for Jordan in list_b\n",
      "WARNING:root:Could not find any correspondence for Japan in list_b\n",
      "WARNING:root:Could not find any correspondence for Kazakhstan in list_b\n",
      "WARNING:root:Could not find any correspondence for Kenya in list_b\n",
      "WARNING:root:Could not find any correspondence for Kyrgyz Republic in list_b\n",
      "WARNING:root:Could not find any correspondence for Cambodia in list_b\n",
      "WARNING:root:Could not find any correspondence for Kiribati in list_b\n",
      "WARNING:root:Could not find any correspondence for St. Kitts and Nevis in list_b\n",
      "WARNING:root:Could not find any correspondence for South Korea in list_b\n",
      "WARNING:root:Could not find any correspondence for Kuwait in list_b\n",
      "WARNING:root:Could not find any correspondence for Laos in list_b\n",
      "WARNING:root:Could not find any correspondence for Lebanon in list_b\n",
      "WARNING:root:Could not find any correspondence for Liberia in list_b\n",
      "WARNING:root:Could not find any correspondence for Libya in list_b\n",
      "WARNING:root:Could not find any correspondence for St. Lucia in list_b\n",
      "WARNING:root:Could not find any correspondence for Liechtenstein in list_b\n",
      "WARNING:root:Could not find any correspondence for Sri Lanka in list_b\n",
      "WARNING:root:Could not find any correspondence for Lesotho in list_b\n",
      "WARNING:root:Could not find any correspondence for Lithuania in list_b\n",
      "WARNING:root:Could not find any correspondence for Luxembourg in list_b\n",
      "WARNING:root:Could not find any correspondence for Latvia in list_b\n",
      "WARNING:root:Could not find any correspondence for Macao in list_b\n",
      "WARNING:root:Could not find any correspondence for Saint-Martin in list_b\n",
      "WARNING:root:Could not find any correspondence for Morocco in list_b\n",
      "WARNING:root:Could not find any correspondence for Monaco in list_b\n",
      "WARNING:root:Could not find any correspondence for Moldova in list_b\n",
      "WARNING:root:Could not find any correspondence for Madagascar in list_b\n",
      "WARNING:root:Could not find any correspondence for Maldives in list_b\n",
      "WARNING:root:Could not find any correspondence for Mexico in list_b\n",
      "WARNING:root:Could not find any correspondence for Marshall Islands in list_b\n",
      "WARNING:root:Could not find any correspondence for Macedonia in list_b\n",
      "WARNING:root:Could not find any correspondence for Mali in list_b\n",
      "WARNING:root:Could not find any correspondence for Malta in list_b\n",
      "WARNING:root:Could not find any correspondence for Myanmar in list_b\n",
      "WARNING:root:Could not find any correspondence for Montenegro in list_b\n",
      "WARNING:root:Could not find any correspondence for Mongolia in list_b\n",
      "WARNING:root:Could not find any correspondence for Northern Mariana Islands in list_b\n",
      "WARNING:root:Could not find any correspondence for Mozambique in list_b\n",
      "WARNING:root:Could not find any correspondence for Mauritania in list_b\n",
      "WARNING:root:Could not find any correspondence for Mauritius in list_b\n",
      "WARNING:root:Could not find any correspondence for Malawi in list_b\n",
      "WARNING:root:Could not find any correspondence for Malaysia in list_b\n",
      "WARNING:root:Could not find any correspondence for Namibia in list_b\n",
      "WARNING:root:Could not find any correspondence for New Caledonia in list_b\n",
      "WARNING:root:Could not find any correspondence for Niger in list_b\n",
      "WARNING:root:Could not find any correspondence for Nigeria in list_b\n",
      "WARNING:root:Could not find any correspondence for Nicaragua in list_b\n",
      "WARNING:root:Could not find any correspondence for Netherlands in list_b\n",
      "WARNING:root:Could not find any correspondence for Norway in list_b\n",
      "WARNING:root:Could not find any correspondence for Nepal in list_b\n",
      "WARNING:root:Could not find any correspondence for New Zealand in list_b\n",
      "WARNING:root:Could not find any correspondence for Oman in list_b\n",
      "WARNING:root:Could not find any correspondence for Pakistan in list_b\n",
      "WARNING:root:Could not find any correspondence for Panama in list_b\n",
      "WARNING:root:Could not find any correspondence for Peru in list_b\n",
      "WARNING:root:Could not find any correspondence for Philippines in list_b\n",
      "WARNING:root:Could not find any correspondence for Palau in list_b\n",
      "WARNING:root:Could not find any correspondence for Papua New Guinea in list_b\n",
      "WARNING:root:Could not find any correspondence for Poland in list_b\n",
      "WARNING:root:Could not find any correspondence for Puerto Rico in list_b\n",
      "WARNING:root:Could not find any correspondence for North Korea in list_b\n",
      "WARNING:root:Could not find any correspondence for Portugal in list_b\n",
      "WARNING:root:Could not find any correspondence for Paraguay in list_b\n",
      "WARNING:root:Could not find any correspondence for Palestine in list_b\n",
      "WARNING:root:Could not find any correspondence for Qatar in list_b\n",
      "WARNING:root:Could not find any correspondence for Romania in list_b\n",
      "WARNING:root:Could not find any correspondence for Russia in list_b\n",
      "WARNING:root:Could not find any correspondence for Rwanda in list_b\n",
      "WARNING:root:Could not find any correspondence for Saudi Arabia in list_b\n",
      "WARNING:root:Could not find any correspondence for Sudan in list_b\n",
      "WARNING:root:Could not find any correspondence for Senegal in list_b\n",
      "WARNING:root:Could not find any correspondence for Singapore in list_b\n",
      "WARNING:root:Could not find any correspondence for Svalbard and Jan Mayen Islands in list_b\n",
      "WARNING:root:Could not find any correspondence for Solomon Islands in list_b\n",
      "WARNING:root:Could not find any correspondence for Sierra Leone in list_b\n",
      "WARNING:root:Could not find any correspondence for El Salvador in list_b\n",
      "WARNING:root:Could not find any correspondence for San Marino in list_b\n",
      "WARNING:root:Could not find any correspondence for Somalia in list_b\n",
      "WARNING:root:Could not find any correspondence for Serbia in list_b\n",
      "WARNING:root:Could not find any correspondence for South Sudan in list_b\n",
      "WARNING:root:Could not find any correspondence for Sao Tome and Principe in list_b\n",
      "WARNING:root:Could not find any correspondence for Suriname in list_b\n",
      "WARNING:root:Could not find any correspondence for Slovakia in list_b\n",
      "WARNING:root:Could not find any correspondence for Slovenia in list_b\n",
      "WARNING:root:Could not find any correspondence for Sweden in list_b\n",
      "WARNING:root:Could not find any correspondence for Eswatini in list_b\n",
      "WARNING:root:Could not find any correspondence for Sint Maarten in list_b\n",
      "WARNING:root:Could not find any correspondence for Seychelles in list_b\n",
      "WARNING:root:Could not find any correspondence for Syria in list_b\n",
      "WARNING:root:Could not find any correspondence for Turks and Caicos Islands in list_b\n",
      "WARNING:root:Could not find any correspondence for Chad in list_b\n",
      "WARNING:root:Could not find any correspondence for Togo in list_b\n",
      "WARNING:root:Could not find any correspondence for Thailand in list_b\n",
      "WARNING:root:Could not find any correspondence for Tajikistan in list_b\n",
      "WARNING:root:Could not find any correspondence for Turkmenistan in list_b\n",
      "WARNING:root:Could not find any correspondence for Timor-Leste in list_b\n",
      "WARNING:root:Could not find any correspondence for Tonga in list_b\n",
      "WARNING:root:Could not find any correspondence for Trinidad and Tobago in list_b\n",
      "WARNING:root:Could not find any correspondence for Tunisia in list_b\n",
      "WARNING:root:Could not find any correspondence for Turkey in list_b\n",
      "WARNING:root:Could not find any correspondence for Tuvalu in list_b\n",
      "WARNING:root:Could not find any correspondence for Taiwan in list_b\n",
      "WARNING:root:Could not find any correspondence for Tanzania in list_b\n",
      "WARNING:root:Could not find any correspondence for Uganda in list_b\n",
      "WARNING:root:Could not find any correspondence for Ukraine in list_b\n",
      "WARNING:root:Could not find any correspondence for Uruguay in list_b\n",
      "WARNING:root:Could not find any correspondence for United States in list_b\n",
      "WARNING:root:Could not find any correspondence for Uzbekistan in list_b\n",
      "WARNING:root:Could not find any correspondence for St. Vincent and the Grenadines in list_b\n",
      "WARNING:root:Could not find any correspondence for Venezuela in list_b\n",
      "WARNING:root:Could not find any correspondence for Vanuatu in list_b\n",
      "WARNING:root:Could not find any correspondence for Samoa in list_b\n",
      "WARNING:root:Could not find any correspondence for Kosovo in list_b\n",
      "WARNING:root:Could not find any correspondence for Yemen in list_b\n",
      "WARNING:root:Could not find any correspondence for South Africa in list_b\n",
      "WARNING:root:Could not find any correspondence for Zambia in list_b\n",
      "WARNING:root:Could not find any correspondence for Zimbabwe in list_b\n"
     ]
    }
   ],
   "source": [
    "# Match country names from lists - 2019\n",
    "matching_dict_2019 = coco.match(admList, list2019);"
   ]
  },
  {
   "cell_type": "code",
   "execution_count": 29,
   "metadata": {
    "colab": {
     "base_uri": "https://localhost:8080/",
     "height": 1000
    },
    "colab_type": "code",
    "id": "Hv0uQ4JgJzSr",
    "outputId": "7a8e0246-4b0a-466f-92b3-831407ffc6a5",
    "scrolled": true
   },
   "outputs": [
    {
     "name": "stderr",
     "output_type": "stream",
     "text": [
      "WARNING:root:Could not find any correspondence for Aruba in list_b\n",
      "WARNING:root:Could not find any correspondence for Afghanistan in list_b\n",
      "WARNING:root:Could not find any correspondence for Angola in list_b\n",
      "WARNING:root:Could not find any correspondence for Albania in list_b\n",
      "WARNING:root:Could not find any correspondence for Andorra in list_b\n",
      "WARNING:root:Could not find any correspondence for United Arab Emirates in list_b\n",
      "WARNING:root:Could not find any correspondence for Argentina in list_b\n",
      "WARNING:root:Could not find any correspondence for Armenia in list_b\n",
      "WARNING:root:Could not find any correspondence for American Samoa in list_b\n",
      "WARNING:root:Could not find any correspondence for Antigua and Barbuda in list_b\n",
      "WARNING:root:Could not find any correspondence for Australia in list_b\n",
      "WARNING:root:Could not find any correspondence for Austria in list_b\n",
      "WARNING:root:Could not find any correspondence for Azerbaijan in list_b\n",
      "WARNING:root:Could not find any correspondence for Burundi in list_b\n",
      "WARNING:root:Could not find any correspondence for Belgium in list_b\n",
      "WARNING:root:Could not find any correspondence for Benin in list_b\n",
      "WARNING:root:Could not find any correspondence for Burkina Faso in list_b\n",
      "WARNING:root:Could not find any correspondence for Bangladesh in list_b\n",
      "WARNING:root:Could not find any correspondence for Bulgaria in list_b\n",
      "WARNING:root:Could not find any correspondence for Bahrain in list_b\n",
      "WARNING:root:Could not find any correspondence for Bahamas in list_b\n",
      "WARNING:root:Could not find any correspondence for Bosnia and Herzegovina in list_b\n",
      "WARNING:root:Could not find any correspondence for Belarus in list_b\n",
      "WARNING:root:Could not find any correspondence for Belize in list_b\n",
      "WARNING:root:Could not find any correspondence for Bermuda in list_b\n",
      "WARNING:root:Could not find any correspondence for Bolivia in list_b\n",
      "WARNING:root:Could not find any correspondence for Brazil in list_b\n",
      "WARNING:root:Could not find any correspondence for Barbados in list_b\n",
      "WARNING:root:Could not find any correspondence for Brunei Darussalam in list_b\n",
      "WARNING:root:Could not find any correspondence for Bhutan in list_b\n",
      "WARNING:root:Could not find any correspondence for Botswana in list_b\n",
      "WARNING:root:Could not find any correspondence for Central African Republic in list_b\n",
      "WARNING:root:Could not find any correspondence for Canada in list_b\n",
      "WARNING:root:Could not find any correspondence for Chile in list_b\n",
      "WARNING:root:Could not find any correspondence for Cote d'Ivoire in list_b\n",
      "WARNING:root:Could not find any correspondence for Cameroon in list_b\n",
      "WARNING:root:Could not find any correspondence for DR Congo in list_b\n",
      "WARNING:root:Could not find any correspondence for Congo Republic in list_b\n",
      "WARNING:root:Could not find any correspondence for Colombia in list_b\n",
      "WARNING:root:Could not find any correspondence for Comoros in list_b\n",
      "WARNING:root:Could not find any correspondence for Cabo Verde in list_b\n",
      "WARNING:root:Could not find any correspondence for Costa Rica in list_b\n",
      "WARNING:root:Could not find any correspondence for Cuba in list_b\n",
      "WARNING:root:Could not find any correspondence for Curacao in list_b\n",
      "WARNING:root:Could not find any correspondence for Cayman Islands in list_b\n",
      "WARNING:root:Could not find any correspondence for Cyprus in list_b\n",
      "WARNING:root:Could not find any correspondence for Czech Republic in list_b\n",
      "WARNING:root:Could not find any correspondence for Germany in list_b\n",
      "WARNING:root:Could not find any correspondence for Djibouti in list_b\n",
      "WARNING:root:Could not find any correspondence for Dominica in list_b\n",
      "WARNING:root:Could not find any correspondence for Denmark in list_b\n",
      "WARNING:root:Could not find any correspondence for Dominican Republic in list_b\n",
      "WARNING:root:Could not find any correspondence for Algeria in list_b\n",
      "WARNING:root:Could not find any correspondence for Ecuador in list_b\n",
      "WARNING:root:Could not find any correspondence for Egypt in list_b\n",
      "WARNING:root:Could not find any correspondence for Eritrea in list_b\n",
      "WARNING:root:Could not find any correspondence for Spain in list_b\n",
      "WARNING:root:Could not find any correspondence for Estonia in list_b\n",
      "WARNING:root:Could not find any correspondence for Ethiopia in list_b\n",
      "WARNING:root:Could not find any correspondence for Finland in list_b\n",
      "WARNING:root:Could not find any correspondence for Fiji in list_b\n",
      "WARNING:root:Could not find any correspondence for France in list_b\n",
      "WARNING:root:Could not find any correspondence for Faeroe Islands in list_b\n",
      "WARNING:root:Could not find any correspondence for Micronesia, Fed. Sts. in list_b\n",
      "WARNING:root:Could not find any correspondence for Gabon in list_b\n",
      "WARNING:root:Could not find any correspondence for United Kingdom in list_b\n",
      "WARNING:root:Could not find any correspondence for Georgia in list_b\n",
      "WARNING:root:Could not find any correspondence for Ghana in list_b\n",
      "WARNING:root:Could not find any correspondence for Guinea in list_b\n",
      "WARNING:root:Could not find any correspondence for Gambia in list_b\n",
      "WARNING:root:Could not find any correspondence for Guinea-Bissau in list_b\n",
      "WARNING:root:Could not find any correspondence for Equatorial Guinea in list_b\n",
      "WARNING:root:Could not find any correspondence for Greece in list_b\n",
      "WARNING:root:Could not find any correspondence for Grenada in list_b\n",
      "WARNING:root:Could not find any correspondence for Greenland in list_b\n",
      "WARNING:root:Could not find any correspondence for Guatemala in list_b\n",
      "WARNING:root:Could not find any correspondence for Guam in list_b\n",
      "WARNING:root:Could not find any correspondence for Guyana in list_b\n",
      "WARNING:root:Could not find any correspondence for Hong Kong in list_b\n",
      "WARNING:root:Could not find any correspondence for Croatia in list_b\n",
      "WARNING:root:Could not find any correspondence for Haiti in list_b\n",
      "WARNING:root:Could not find any correspondence for Hungary in list_b\n",
      "WARNING:root:Could not find any correspondence for Indonesia in list_b\n",
      "WARNING:root:Could not find any correspondence for Isle of Man in list_b\n",
      "WARNING:root:Could not find any correspondence for India in list_b\n",
      "WARNING:root:Could not find any correspondence for Ireland in list_b\n",
      "WARNING:root:Could not find any correspondence for Iran in list_b\n",
      "WARNING:root:Could not find any correspondence for Iraq in list_b\n",
      "WARNING:root:Could not find any correspondence for Iceland in list_b\n",
      "WARNING:root:Could not find any correspondence for Israel in list_b\n",
      "WARNING:root:Could not find any correspondence for Italy in list_b\n",
      "WARNING:root:Could not find any correspondence for Jamaica in list_b\n",
      "WARNING:root:Could not find any correspondence for Jordan in list_b\n",
      "WARNING:root:Could not find any correspondence for Japan in list_b\n",
      "WARNING:root:Could not find any correspondence for Kazakhstan in list_b\n",
      "WARNING:root:Could not find any correspondence for Kenya in list_b\n",
      "WARNING:root:Could not find any correspondence for Kyrgyz Republic in list_b\n",
      "WARNING:root:Could not find any correspondence for Cambodia in list_b\n",
      "WARNING:root:Could not find any correspondence for Kiribati in list_b\n",
      "WARNING:root:Could not find any correspondence for St. Kitts and Nevis in list_b\n",
      "WARNING:root:Could not find any correspondence for South Korea in list_b\n",
      "WARNING:root:Could not find any correspondence for Kuwait in list_b\n",
      "WARNING:root:Could not find any correspondence for Laos in list_b\n",
      "WARNING:root:Could not find any correspondence for Lebanon in list_b\n",
      "WARNING:root:Could not find any correspondence for Liberia in list_b\n",
      "WARNING:root:Could not find any correspondence for Libya in list_b\n",
      "WARNING:root:Could not find any correspondence for St. Lucia in list_b\n",
      "WARNING:root:Could not find any correspondence for Liechtenstein in list_b\n",
      "WARNING:root:Could not find any correspondence for Sri Lanka in list_b\n",
      "WARNING:root:Could not find any correspondence for Lesotho in list_b\n",
      "WARNING:root:Could not find any correspondence for Lithuania in list_b\n",
      "WARNING:root:Could not find any correspondence for Luxembourg in list_b\n",
      "WARNING:root:Could not find any correspondence for Latvia in list_b\n",
      "WARNING:root:Could not find any correspondence for Macao in list_b\n",
      "WARNING:root:Could not find any correspondence for Saint-Martin in list_b\n",
      "WARNING:root:Could not find any correspondence for Morocco in list_b\n",
      "WARNING:root:Could not find any correspondence for Monaco in list_b\n",
      "WARNING:root:Could not find any correspondence for Moldova in list_b\n",
      "WARNING:root:Could not find any correspondence for Madagascar in list_b\n",
      "WARNING:root:Could not find any correspondence for Maldives in list_b\n",
      "WARNING:root:Could not find any correspondence for Mexico in list_b\n",
      "WARNING:root:Could not find any correspondence for Marshall Islands in list_b\n",
      "WARNING:root:Could not find any correspondence for Macedonia in list_b\n",
      "WARNING:root:Could not find any correspondence for Mali in list_b\n",
      "WARNING:root:Could not find any correspondence for Malta in list_b\n",
      "WARNING:root:Could not find any correspondence for Myanmar in list_b\n",
      "WARNING:root:Could not find any correspondence for Montenegro in list_b\n",
      "WARNING:root:Could not find any correspondence for Mongolia in list_b\n",
      "WARNING:root:Could not find any correspondence for Northern Mariana Islands in list_b\n",
      "WARNING:root:Could not find any correspondence for Mozambique in list_b\n",
      "WARNING:root:Could not find any correspondence for Mauritania in list_b\n",
      "WARNING:root:Could not find any correspondence for Mauritius in list_b\n",
      "WARNING:root:Could not find any correspondence for Malawi in list_b\n",
      "WARNING:root:Could not find any correspondence for Malaysia in list_b\n",
      "WARNING:root:Could not find any correspondence for Namibia in list_b\n",
      "WARNING:root:Could not find any correspondence for New Caledonia in list_b\n",
      "WARNING:root:Could not find any correspondence for Niger in list_b\n",
      "WARNING:root:Could not find any correspondence for Nigeria in list_b\n",
      "WARNING:root:Could not find any correspondence for Nicaragua in list_b\n",
      "WARNING:root:Could not find any correspondence for Netherlands in list_b\n",
      "WARNING:root:Could not find any correspondence for Norway in list_b\n",
      "WARNING:root:Could not find any correspondence for Nepal in list_b\n",
      "WARNING:root:Could not find any correspondence for New Zealand in list_b\n",
      "WARNING:root:Could not find any correspondence for Oman in list_b\n",
      "WARNING:root:Could not find any correspondence for Pakistan in list_b\n",
      "WARNING:root:Could not find any correspondence for Panama in list_b\n",
      "WARNING:root:Could not find any correspondence for Peru in list_b\n",
      "WARNING:root:Could not find any correspondence for Philippines in list_b\n",
      "WARNING:root:Could not find any correspondence for Palau in list_b\n",
      "WARNING:root:Could not find any correspondence for Papua New Guinea in list_b\n",
      "WARNING:root:Could not find any correspondence for Poland in list_b\n",
      "WARNING:root:Could not find any correspondence for Puerto Rico in list_b\n",
      "WARNING:root:Could not find any correspondence for North Korea in list_b\n",
      "WARNING:root:Could not find any correspondence for Portugal in list_b\n",
      "WARNING:root:Could not find any correspondence for Paraguay in list_b\n",
      "WARNING:root:Could not find any correspondence for Palestine in list_b\n",
      "WARNING:root:Could not find any correspondence for French Polynesia in list_b\n",
      "WARNING:root:Could not find any correspondence for Qatar in list_b\n",
      "WARNING:root:Could not find any correspondence for Romania in list_b\n",
      "WARNING:root:Could not find any correspondence for Rwanda in list_b\n",
      "WARNING:root:Could not find any correspondence for Saudi Arabia in list_b\n",
      "WARNING:root:Could not find any correspondence for Sudan in list_b\n",
      "WARNING:root:Could not find any correspondence for Senegal in list_b\n",
      "WARNING:root:Could not find any correspondence for Singapore in list_b\n",
      "WARNING:root:Could not find any correspondence for Svalbard and Jan Mayen Islands in list_b\n",
      "WARNING:root:Could not find any correspondence for Solomon Islands in list_b\n",
      "WARNING:root:Could not find any correspondence for Sierra Leone in list_b\n",
      "WARNING:root:Could not find any correspondence for El Salvador in list_b\n",
      "WARNING:root:Could not find any correspondence for San Marino in list_b\n",
      "WARNING:root:Could not find any correspondence for Somalia in list_b\n",
      "WARNING:root:Could not find any correspondence for Serbia in list_b\n",
      "WARNING:root:Could not find any correspondence for South Sudan in list_b\n",
      "WARNING:root:Could not find any correspondence for Sao Tome and Principe in list_b\n",
      "WARNING:root:Could not find any correspondence for Suriname in list_b\n",
      "WARNING:root:Could not find any correspondence for Slovakia in list_b\n",
      "WARNING:root:Could not find any correspondence for Slovenia in list_b\n",
      "WARNING:root:Could not find any correspondence for Sweden in list_b\n",
      "WARNING:root:Could not find any correspondence for Eswatini in list_b\n",
      "WARNING:root:Could not find any correspondence for Sint Maarten in list_b\n",
      "WARNING:root:Could not find any correspondence for Seychelles in list_b\n",
      "WARNING:root:Could not find any correspondence for Syria in list_b\n",
      "WARNING:root:Could not find any correspondence for Turks and Caicos Islands in list_b\n",
      "WARNING:root:Could not find any correspondence for Chad in list_b\n",
      "WARNING:root:Could not find any correspondence for Togo in list_b\n",
      "WARNING:root:Could not find any correspondence for Thailand in list_b\n",
      "WARNING:root:Could not find any correspondence for Tajikistan in list_b\n",
      "WARNING:root:Could not find any correspondence for Turkmenistan in list_b\n",
      "WARNING:root:Could not find any correspondence for Timor-Leste in list_b\n",
      "WARNING:root:Could not find any correspondence for Tonga in list_b\n",
      "WARNING:root:Could not find any correspondence for Trinidad and Tobago in list_b\n",
      "WARNING:root:Could not find any correspondence for Tunisia in list_b\n",
      "WARNING:root:Could not find any correspondence for Turkey in list_b\n",
      "WARNING:root:Could not find any correspondence for Tuvalu in list_b\n",
      "WARNING:root:Could not find any correspondence for Taiwan in list_b\n",
      "WARNING:root:Could not find any correspondence for Tanzania in list_b\n",
      "WARNING:root:Could not find any correspondence for Uganda in list_b\n",
      "WARNING:root:Could not find any correspondence for Ukraine in list_b\n",
      "WARNING:root:Could not find any correspondence for Uruguay in list_b\n",
      "WARNING:root:Could not find any correspondence for United States in list_b\n",
      "WARNING:root:Could not find any correspondence for Uzbekistan in list_b\n",
      "WARNING:root:Could not find any correspondence for St. Vincent and the Grenadines in list_b\n",
      "WARNING:root:Could not find any correspondence for Venezuela in list_b\n",
      "WARNING:root:Could not find any correspondence for Vietnam in list_b\n",
      "WARNING:root:Could not find any correspondence for Vanuatu in list_b\n",
      "WARNING:root:Could not find any correspondence for Samoa in list_b\n",
      "WARNING:root:Could not find any correspondence for Kosovo in list_b\n",
      "WARNING:root:Could not find any correspondence for Yemen in list_b\n",
      "WARNING:root:Could not find any correspondence for South Africa in list_b\n",
      "WARNING:root:Could not find any correspondence for Zambia in list_b\n",
      "WARNING:root:Could not find any correspondence for Zimbabwe in list_b\n"
     ]
    }
   ],
   "source": [
    "# Match country names from lists - 2016\n",
    "matching_dict_2016 = coco.match(admList, list2016);"
   ]
  },
  {
   "cell_type": "markdown",
   "metadata": {
    "colab_type": "text",
    "id": "77_TgT_1JzSu"
   },
   "source": [
    "## Correcting specific cases"
   ]
  },
  {
   "cell_type": "code",
   "execution_count": 110,
   "metadata": {
    "colab": {},
    "colab_type": "code",
    "id": "XYjJ_Kc4JzSu"
   },
   "outputs": [],
   "source": [
    "# Sierra Leone has two folders, selecting one\n",
    "if type(matching_dict_2019['Sierra Leone']) is list:\n",
    "    matching_dict_2019['Sierra Leone'] = 'Sierra Leone'"
   ]
  },
  {
   "cell_type": "code",
   "execution_count": 111,
   "metadata": {
    "colab": {},
    "colab_type": "code",
    "id": "o1glwsEQkaNe"
   },
   "outputs": [],
   "source": [
    "# There is only one flood folder for Sudan so setting South Sudan to also read from it\n",
    "if matching_dict_2016['South Sudan'] == 'not_found':\n",
    "    matching_dict_2016['South Sudan'] = 'Sudan'"
   ]
  },
  {
   "cell_type": "code",
   "execution_count": 112,
   "metadata": {
    "colab": {},
    "colab_type": "code",
    "id": "Ks_0OTXNJzSw"
   },
   "outputs": [],
   "source": [
    "# Fiji flood files are separated into Fiji_west and Fiji_east\n",
    "for name in flood_path_2019.glob('Fiji_west'):\n",
    "    fluvialFolder = flood_path_2019 / name / fluvialFlood_Folder\n",
    "    FJfluvial = list(fluvialFolder.rglob('*100.tif'))\n",
    "    \n",
    "for name in flood_path_2019.glob('Fiji_east'):\n",
    "    pluvialFolder = flood_path_2019 / name / pluvialFlood_Folder\n",
    "    FJ_E_pluvial = list(pluvialFolder.rglob('*100.tif'))\n",
    "    \n",
    "for name in flood_path_2019.glob('Fiji_west'):\n",
    "    pluvialFolder = flood_path_2019 / name / pluvialFlood_Folder\n",
    "    FJ_W_pluvial = list(pluvialFolder.rglob('*100.tif'))"
   ]
  },
  {
   "cell_type": "code",
   "execution_count": 113,
   "metadata": {
    "colab": {},
    "colab_type": "code",
    "id": "-eCBeO1fJzSy"
   },
   "outputs": [],
   "source": [
    "# Reorder so geometry is the last col\n",
    "adm = adm[['ADM0_NAME','code','ISO3','sample','region','geo_code2','geometry']]"
   ]
  },
  {
   "cell_type": "code",
   "execution_count": 114,
   "metadata": {
    "colab": {},
    "colab_type": "code",
    "id": "OeorvkCZJzS0"
   },
   "outputs": [],
   "source": [
    "# from previous runs - combined 2016 and 2019 ,'PYF_1992'\n",
    "bad_adm1 = ['FSM_2','TLS_201', 'BHR_2229','CAN_2254',\n",
    "            'MAR_502','RUS_391','RUS_421','RUS_443','RUS_453',\n",
    "            'RUS_2252','USA_759','HND_2117','MAR_502']"
   ]
  },
  {
   "cell_type": "markdown",
   "metadata": {
    "colab_type": "text",
    "id": "BxvXP4YaWhis"
   },
   "source": [
    "# Functions\n"
   ]
  },
  {
   "cell_type": "code",
   "execution_count": 55,
   "metadata": {
    "colab": {},
    "colab_type": "code",
    "id": "_mfhWpisj8dX"
   },
   "outputs": [],
   "source": [
    "def get_FP_2019(flood_name, path_name, pfFlood_Folder):\n",
    "  floodList = []\n",
    "  for name in path_name.glob(flood_name):\n",
    "      floodFolder = path_name / name / pfFlood_Folder\n",
    "      if len(list(floodFolder.rglob('*100.tif'))) == 0:\n",
    "          # Large countries have multiple FU_1in100-x.tif files (x = tile number)\n",
    "          floodList = list(floodFolder.rglob('*100_tile_?.tif'))\n",
    "      else:\n",
    "          # Small countries have one FU_1in100.tif file\n",
    "          floodList = list(floodFolder.rglob('*100.tif'))\n",
    "  return floodList\n"
   ]
  },
  {
   "cell_type": "code",
   "execution_count": 56,
   "metadata": {
    "colab": {},
    "colab_type": "code",
    "id": "dT5U3HFBy6ki"
   },
   "outputs": [],
   "source": [
    "def get_FP_2016(flood_name, path_name, pfFlood_Folder):\n",
    "  # Creating list of fluvial flood files\n",
    "  floodList = []\n",
    "  for name in path_name.glob(flood_name):\n",
    "          floodFolder = path_name / name / pfFlood_Folder\n",
    "          floodList = list(floodFolder.rglob('*.tif'))\n",
    "  return floodList"
   ]
  },
  {
   "cell_type": "code",
   "execution_count": 57,
   "metadata": {
    "colab": {},
    "colab_type": "code",
    "id": "CPtcHUWlCnf2"
   },
   "outputs": [],
   "source": [
    "def open_files_in_list(fileList):\n",
    "    outputList = []\n",
    "    for fp in fileList:\n",
    "        src = rs.open(fp)\n",
    "        outputList.append(src) \n",
    "    return outputList"
   ]
  },
  {
   "cell_type": "code",
   "execution_count": 58,
   "metadata": {
    "colab": {},
    "colab_type": "code",
    "id": "7N_9Nfo3b_28"
   },
   "outputs": [],
   "source": [
    "def merge_export_adm0_FP_files(flood_files_list, outpath, countryCode, FP):\n",
    "    if len(flood_files_list) >=1:\n",
    "      # if multiple flood files exist, merge then export\n",
    "      if len(flood_files_list) >1: \n",
    "          # Merge flood files.\n",
    "          floodArray, out_trans = merge(flood_files_list, method='max')\n",
    "          tPrint(f'{countryCode}: Country level {FP} merged') \n",
    "          ## Update the metadata\n",
    "          out_meta = flood_files_list[0].meta.copy()\n",
    "          out_meta.update({\"height\": floodArray.shape[1], \n",
    "                            \"width\": floodArray.shape[2],\n",
    "                            \"transform\": out_trans})\n",
    "      elif len(flood_files_list) ==1: \n",
    "          floodArray = flood_files_list[0].read()\n",
    "          out_meta = flood_files_list[0].meta.copy()\n",
    "          tPrint(f'{countryCode}: Only one {FP} tile. No merge needed')\n",
    "      # export as a new geotiff \n",
    "      floodName = f\"{FP}_{countryCode}.tif\"\n",
    "      merged_outputfile = outpath / floodName\n",
    "      with rs.open(merged_outputfile, 'w', **out_meta, compress = 'LZW', tiled=True) as dest:\n",
    "          dest.write(floodArray)\n",
    "      tPrint(f'{countryCode}: Country level {FP} exported') \n",
    "    else:\n",
    "      tPrint(f'{countryCode}: No {FP} files found.')\n",
    "      merged_outputfile = outpath # fix or use this in next loop\n",
    "    return merged_outputfile\n"
   ]
  },
  {
   "cell_type": "code",
   "execution_count": 59,
   "metadata": {
    "colab": {},
    "colab_type": "code",
    "id": "MSuWCTuH62jl"
   },
   "outputs": [],
   "source": [
    "def adm0_processing_2019(flood_name):\n",
    "    # all other variables used are global\n",
    "    ###################### Fluvial Adm0 ######################\n",
    "    if flood_name == ['Fiji_east', 'Fiji_west']: \n",
    "      fluvialList = FJfluvial \n",
    "    else: \n",
    "      fluvialList = get_FP_2019(flood_name, flood_path_2019, fluvialFlood_Folder) \n",
    "\n",
    "    fluvialFiles = open_files_in_list(fluvialList)      \n",
    "    Fluvial_outputfile = merge_export_adm0_FP_files(fluvialFiles, FP_outputFolderPath, countryCode, 'fluvial')\n",
    "\n",
    "    ###################### Pluvial Adm0 ######################\n",
    "    # Create list of pluvial flood files\n",
    "    if flood_name == ['Fiji_east', 'Fiji_west']:\n",
    "      pluvialList = FJ_E_pluvial + FJ_W_pluvial\n",
    "    else:\n",
    "      pluvialList = get_FP_2019(flood_name, flood_path_2019, pluvialFlood_Folder)\n",
    "\n",
    "    pluvialFiles = open_files_in_list(pluvialList)  \n",
    "    Pluvial_outputfile = merge_export_adm0_FP_files(pluvialFiles, FP_outputFolderPath, countryCode, 'pluvial')\n",
    "\n",
    "    return Fluvial_outputfile, Pluvial_outputfile\n"
   ]
  },
  {
   "cell_type": "code",
   "execution_count": 84,
   "metadata": {
    "colab": {},
    "colab_type": "code",
    "id": "1LF_N7noV_x1"
   },
   "outputs": [],
   "source": [
    "def adm0_processing_2016(flood_name):\n",
    "    # all other variables used are global\n",
    "    ###################### Fluvial Adm0 ######################\n",
    "    # South Sudan - Need to use Sudan fluvial and pluvial files \n",
    "    if countryCode == 'SSD': \n",
    "        fluvialFlood_Folder_2016 = 'SD_fluvial_undefended'\n",
    "    else:\n",
    "        fluvialFlood_Folder_2016 = f'{countryNameInfo.alpha_2}_fluvial_undefended'\n",
    "        \n",
    "    fluvialList = get_FP_2016(flood_name, flood_path_2016, fluvialFlood_Folder_2016)\n",
    "    fluvialFiles = open_files_in_list(fluvialList) \n",
    "    Fluvial_outputfile = merge_export_adm0_FP_files(fluvialFiles, FP_outputFolderPath, countryCode, 'fluvial')\n",
    "\n",
    "    ###################### Pluvial Adm0 ######################\n",
    "    # South Sudan - Need to use Sudan fluvial and pluvial file\n",
    "    if countryCode == 'SSD':\n",
    "        pluvialFlood_Folder_2016 = 'SD_pluvial_undefended'\n",
    "    else:\n",
    "        pluvialFlood_Folder_2016 = f'{countryNameInfo.alpha_2}_pluvial_undefended'\n",
    "        \n",
    "    pluvialList = get_FP_2016(flood_name, flood_path_2016, pluvialFlood_Folder_2016)\n",
    "    pluvialFiles = open_files_in_list(pluvialList)  \n",
    "    Pluvial_outputfile = merge_export_adm0_FP_files(pluvialFiles, FP_outputFolderPath, countryCode, 'pluvial')\n",
    "    \n",
    "    return Fluvial_outputfile, Pluvial_outputfile"
   ]
  },
  {
   "cell_type": "code",
   "execution_count": 61,
   "metadata": {
    "colab": {},
    "colab_type": "code",
    "id": "KVOlUWPaWg13"
   },
   "outputs": [],
   "source": [
    "def get_adm1_index(df_adm1):\n",
    "    adm1Index = str(df_adm1.index)\n",
    "    adm1Index = adm1Index.partition(\"[\")[2].partition(\"]\")[0]\n",
    "    return adm1Index"
   ]
  },
  {
   "cell_type": "code",
   "execution_count": 62,
   "metadata": {
    "colab": {},
    "colab_type": "code",
    "id": "ZEAzgR4Hm7N8"
   },
   "outputs": [],
   "source": [
    "def crop_to_shp(path_name, df, filePrefix):\n",
    "    raster = rs.open(path_name)\n",
    "    # Mask to shapefile\n",
    "    out_array, out_trans = rs.mask.mask(dataset=raster, shapes=df.geometry, crop=True)\n",
    "\n",
    "    out_meta = raster.meta.copy()\n",
    "    out_meta.update({\"height\": out_array.shape[1], \n",
    "                      \"width\": out_array.shape[2],\n",
    "                      \"transform\": out_trans})\n",
    "    tPrint(f\"{countryCode}_{adm1Index} - {filePrefix} cropped to adm 1\")\n",
    "    return out_array, out_meta\n",
    "    "
   ]
  },
  {
   "cell_type": "code",
   "execution_count": 63,
   "metadata": {
    "colab": {},
    "colab_type": "code",
    "id": "HGfVD6_Ytp3b"
   },
   "outputs": [],
   "source": [
    "def export_raster_to_geotiff(array, meta, path, fileName, filePrefix):\n",
    "    Cropped_outputfile = path / fileName\n",
    "    with rs.open(Cropped_outputfile, 'w', **meta, compress = 'LZW', tiled=True) as dest:\n",
    "        dest.write(array)\n",
    "    return Cropped_outputfile\n",
    "    tPrint(f\"{countryCode}_{adm1Index} - {filePrefix} exported\")\n",
    "    "
   ]
  },
  {
   "cell_type": "code",
   "execution_count": 64,
   "metadata": {
    "colab": {},
    "colab_type": "code",
    "id": "zKI7N9j5MpaK"
   },
   "outputs": [],
   "source": [
    "def vrtWarp(inpath, outpath, vrt_settings, country_code, adm_code, filePrefix):\n",
    "    with rs.open(inpath) as src:\n",
    "      with WarpedVRT(src, **vrt_settings) as vrt:\n",
    "          data = vrt.read()\n",
    "          # Process the dataset in chunks. \n",
    "          for _, window in vrt.block_windows(): data = vrt.read(window=window)\n",
    "          # Export the aligned data \n",
    "          fileName = f\"{filePrefix}_{country_code}_{adm_code}.tif\"\n",
    "          Aligned_outputfile = outpath / fileName        \n",
    "          rio_shutil.copy(vrt, Aligned_outputfile, driver='GTiff')\n",
    "    tPrint(f\"{countryCode}_{adm1Index} - {filePrefix} aligned\")\n",
    "    return Aligned_outputfile\n"
   ]
  },
  {
   "cell_type": "code",
   "execution_count": 65,
   "metadata": {
    "colab": {},
    "colab_type": "code",
    "id": "q_0KERcmvpsa"
   },
   "outputs": [],
   "source": [
    "def convert_to_bool_int_array(array):\n",
    "      listNumberCat = range(numberCategories)\n",
    "      list_IntBool_floodCat = []\n",
    "      # Create a boolean int array for each category\n",
    "      for i in listNumberCat:\n",
    "          intArray = (array == i).astype(dtype = np.int8, copy = False)\n",
    "          list_IntBool_floodCat.append(intArray)\n",
    "      tPrint(f\"{countryCode}_{adm1Index} - Flood converted to bool int arrays\")\n",
    "      return list_IntBool_floodCat\n"
   ]
  },
  {
   "cell_type": "code",
   "execution_count": 66,
   "metadata": {
    "colab": {},
    "colab_type": "code",
    "id": "y44Y4SQBvp67"
   },
   "outputs": [],
   "source": [
    "def multiply_array_list(arrayList, array):\n",
    "      flood_pop = []\n",
    "      for i in range(len(arrayList)):\n",
    "          flood_pop.append(np.multiply(arrayList[i], array))\n",
    "      flood_pop = (np.vstack((flood_pop)))\n",
    "      tPrint(f\"{countryCode}_{adm1Index} - Flood multiplied by pop\")\n",
    "      return flood_pop\n"
   ]
  },
  {
   "cell_type": "code",
   "execution_count": 67,
   "metadata": {
    "colab": {},
    "colab_type": "code",
    "id": "bw3wl0cJ0dgM"
   },
   "outputs": [],
   "source": [
    "def array3d_sum(array):\n",
    "      Flood_pop_sums = {\n",
    "        '0-NoRiskPop': np.sum(array[0]),\n",
    "        '1-LowRiskPop': np.sum(array[1]),\n",
    "        '2-ModerateRiskPop': np.sum(array[2]),\n",
    "        '3-HighRiskPop': np.sum(array[3]),\n",
    "        '4-VeryHighRiskPop': np.sum(array[4]),\n",
    "        '5-WaterBodyPop': np.sum(array[5])\n",
    "      }\n",
    "      tPrint(f\"{countryCode}_{adm1Index} - Checksum: {np.sum(array)}\")\n",
    "      return Flood_pop_sums"
   ]
  },
  {
   "cell_type": "code",
   "execution_count": 68,
   "metadata": {
    "colab": {},
    "colab_type": "code",
    "id": "07tea3dE1SLk"
   },
   "outputs": [],
   "source": [
    "def sums_to_df(sums, df):\n",
    "      for key,value in sums.items() :\n",
    "        df.loc[int(adm1Index), key] = value\n",
    "\n",
    "      # rounding the values to x decimal places\n",
    "      df.iloc[:,-6:] = df.iloc[:,-6:].apply(lambda x: round(x, 2));\n",
    "\n",
    "      # Keeping only results cols to make merge easy\n",
    "      df = df.iloc[:,-6:] \n",
    "      df['ISO3'] = countryCode\n",
    "      return df\n",
    "\n"
   ]
  },
  {
   "cell_type": "code",
   "execution_count": 69,
   "metadata": {
    "colab": {},
    "colab_type": "code",
    "id": "Q_T00_8vI5xB"
   },
   "outputs": [],
   "source": [
    "def adm1_processing(adm1, resultDF):\n",
    "    ###################### Fluvial Adm1 ######################\n",
    "    # crop\n",
    "    floodArray, out_meta = crop_to_shp(Fluvial_outputfile, adm1, 'Fluvial')\n",
    "    # export\n",
    "    fluvialCroppedName = f\"FU_{countryCode}_{adm1Index}.tif\"\n",
    "    FluvialCropped_outputfile = export_raster_to_geotiff(floodArray, out_meta, FP_outputFolderPath, \n",
    "                                                        fluvialCroppedName, 'Fluvial')\n",
    "    \n",
    "    # ###################### Pluvial Adm1 ######################\n",
    "    # crop\n",
    "    floodArray, out_meta = crop_to_shp(Pluvial_outputfile, adm1, 'Pluvial')\n",
    "    # export\n",
    "    pluvialCroppedName = f\"PU_{countryCode}_{adm1Index}.tif\"\n",
    "    PluvialCropped_outputfile = export_raster_to_geotiff(floodArray, out_meta, FP_outputFolderPath, \n",
    "                                                        pluvialCroppedName, 'Pluvial')\n",
    "    \n",
    "    ###################### WarpedVRT ######################\n",
    "    # Vritually warp the pop and coastal flood files to the fluvial and pluvial\n",
    "    vrt_options ={\n",
    "        'resampling': Resampling.nearest,\n",
    "        'crs': out_meta['crs'],\n",
    "        'transform' : out_meta['transform'],\n",
    "        'height':floodArray.shape[1],\n",
    "        'width': floodArray.shape[2]\n",
    "    }\n",
    "\n",
    "    ###################### Population ######################\n",
    "    # Get population file\n",
    "    pop_File = \" \"\n",
    "    countryAlpha3 = f'*{countryCode}*'\n",
    "    for name in population_path.glob(countryAlpha3):\n",
    "        pop_File = name\n",
    "    if pop_File != \" \":\n",
    "        # Align using Warped VRT\n",
    "        popAligned_outputfile = vrtWarp(pop_File, PopAligned_outputFolderPath, vrt_options, countryCode, adm1Index, 'popAligned')\n",
    "        pop = rs.open(popAligned_outputfile)\n",
    "        # crop\n",
    "        popArray, out_meta = crop_to_shp(popAligned_outputfile, adm1, 'Pop')\n",
    "        # change dtype to reduce memory\n",
    "        popArray = popArray.astype('float32', copy=False)\n",
    "        out_meta.update({'dtype': 'float32'})\n",
    "        # export\n",
    "        popCropped = f\"PopCropped_{countryCode}_{adm1Index}.tif\"\n",
    "        export_raster_to_geotiff(popArray, out_meta, PopAligned_outputFolderPath, popCropped, 'popCropped')\n",
    "        # Remove negatives\n",
    "        popArray[popArray < 0] = 0\n",
    "        # Print population sum for country to compare against final results\n",
    "        tPrint(f\"{countryCode}_{adm1Index} - Pop aligned & cropped. Total Pop: {np.sum(popArray)}\")\n",
    "\n",
    "        ###################### Coastal Adm1 ######################\n",
    "        # Align using Warped VRT\n",
    "        cFloodAligned_outputfile = vrtWarp(coastalFlood_path, cFlood_outputFolderPath,  \n",
    "                                        vrt_options, countryCode, adm1Index, 'AlignedCoastalFlood')\n",
    "        # At this point the coastal flood file is aligned and has been cropped to the pop bounding box\n",
    "        # It will be cropped to the adm1 boundaries after merging with the fluvail and pluvial files\n",
    "        tPrint(f\"{countryCode}_{adm1Index} - Coastal aligned\")\n",
    "\n",
    "        ###################### Flood mosaic adm1 ######################\n",
    "        # Create flood mosaic\n",
    "        combinedFloodList = [FluvialCropped_outputfile] + [PluvialCropped_outputfile] + [cFloodAligned_outputfile]            \n",
    "        allFiles = []\n",
    "        for fp in combinedFloodList:\n",
    "            src = rs.open(fp)\n",
    "            allFiles.append(src)\n",
    "\n",
    "        # Merge flood files. Using max pixel by pixel method\n",
    "        floodArray, out_trans = merge(allFiles, method='max')\n",
    "        out_meta = allFiles[0].meta.copy()\n",
    "        out_meta.update({\"height\": floodArray.shape[1], \n",
    "                          \"width\": floodArray.shape[2],\n",
    "                          \"transform\": out_trans})\n",
    "        # export\n",
    "        floodNameMerged = f\"FloodMerged_{countryCode}_{adm1Index}.tif\"\n",
    "        FloodMerged_outputfile = export_raster_to_geotiff(floodArray, out_meta, Flood_outputFolderPath, floodNameMerged, 'FloodMerged')\n",
    "        tPrint(f'{countryCode}_{adm1Index} - Flood mosaic merged & exported') \n",
    "\n",
    "        # ###################### Crop merged file flood ######################\n",
    "        # crop\n",
    "        floodArray, out_meta = crop_to_shp(FloodMerged_outputfile, adm1, 'FloodCropped')\n",
    "        # export\n",
    "        floodName = f\"Flood_{countryCode}_{adm1Index}.tif\"\n",
    "        FloodCropped_outputfile = export_raster_to_geotiff(floodArray, out_meta, Flood_outputFolderPath, \n",
    "                                                            floodName, 'FloodCropped')\n",
    "        tPrint(f'{countryCode}_{adm1Index} - Confirming same shape. popArray shape: {popArray.shape} floodArray shape: {floodArray.shape}')\n",
    "\n",
    "        ###################### Categorize by flood bins ######################\n",
    "        floodArray = np.digitize(floodArray, flood_bins, right=True) # True to include right bin edge\n",
    "        floodArray = floodArray.astype(dtype = np.int8, copy = False)\n",
    "        tPrint(f\"{countryCode}_{adm1Index} - Flood categorized\") \n",
    "\n",
    "        ###################### Convert to bool int arrays ######################\n",
    "        list_IntBool_floodCat = convert_to_bool_int_array(floodArray)\n",
    "        del floodArray\n",
    "\n",
    "        ###################### Multiply flood array by pop array ######################\n",
    "        # Multiply each int bool categorized flood array by the population array\n",
    "        flood_pop = multiply_array_list(list_IntBool_floodCat, popArray)\n",
    "        del list_IntBool_floodCat\n",
    "\n",
    "        ##################### Export flood pop raster ######################\n",
    "        # update meta\n",
    "        out_meta.update({\"nodata\": 0., 'count': numberCategories})\n",
    "        # export\n",
    "        FloodPopName = f\"FloodPop_{countryCode}_{adm1Index}.tif\"\n",
    "        export_raster_to_geotiff(flood_pop, out_meta, Raster_outputFolderPath, FloodPopName, 'flood pop stack')\n",
    "\n",
    "        # ###################### Calculate sum for each exposure array ######################\n",
    "        Flood_pop_sums = array3d_sum(flood_pop)\n",
    "\n",
    "        #################################### Add to df ####################################\n",
    "        adm1 = sums_to_df(Flood_pop_sums, adm1)\n",
    "        resultDF = resultDF.append(adm1)\n",
    "        tPrint(f\"{countryCode}_{adm1Index} - Sums added to df\")\n",
    "    else:\n",
    "        tPrint(f\"{countryCode}_{adm1Index} - no pop file\")\n",
    "    return resultDF"
   ]
  },
  {
   "cell_type": "code",
   "execution_count": 70,
   "metadata": {
    "colab": {},
    "colab_type": "code",
    "id": "_sbR5YyGtZ94"
   },
   "outputs": [],
   "source": [
    "def adm1_loop(sub_df, result_df):\n",
    "  for namedTuple in sub_df.itertuples():\n",
    "    adm1 = sub_df.loc[[int(namedTuple[0])]]\n",
    "    adm1 = adm1[['ADM0_NAME','geometry']] \n",
    "    global adm1Index # making adm1Index global \n",
    "    adm1Index = get_adm1_index(adm1)\n",
    "    adm1_name = f'{countryCode}_{adm1Index}' #countryCode is global\n",
    "    # skip bad_adm1\n",
    "    global bad_adm1 \n",
    "    if adm1_name in bad_adm1: #bad_adm1 is global\n",
    "        tPrint(f'{countryCode}_{adm1Index} is bad')\n",
    "    else:\n",
    "        try: # main processing happens hhere\n",
    "            result_df = adm1_processing(adm1, result_df) #result is global\n",
    "        except rasterio.errors.WindowError:\n",
    "            #bad_adm1.append(f'{countryCode}_{adm1Index}')\n",
    "            tPrint(f\"{countryCode}_{adm1Index} - adm1 window error\")\n",
    "            continue\n",
    "        except ValueError:\n",
    "            #bad_adm1.append(f'{countryCode}_{adm1Index}')\n",
    "            tPrint(f\"{countryCode}_{adm1Index} - adm1 value error\")\n",
    "            continue\n",
    "        except:\n",
    "            #bad_adm1.append(f'{countryCode}_{adm1Index}')\n",
    "            tPrint(f\"{countryCode}_{adm1Index} - adm1 other error\")\n",
    "            continue\n",
    "  return result_df"
   ]
  },
  {
   "cell_type": "code",
   "execution_count": 71,
   "metadata": {
    "colab": {},
    "colab_type": "code",
    "id": "XkbK1fCWJzSZ",
    "scrolled": true
   },
   "outputs": [],
   "source": [
    "# Function to calculate summary stats for arrays\n",
    "def stats (array): \n",
    "    stats_dict={\n",
    "   'min': array.min(),\n",
    "   'mean': array.mean(),\n",
    "   'median': np.median(array),\n",
    "   'max': array.max()}\n",
    "    return stats_dict"
   ]
  },
  {
   "cell_type": "markdown",
   "metadata": {
    "colab_type": "text",
    "id": "6A4CYmKLJzS0"
   },
   "source": [
    "<a id='TOC'></a>\n",
    "*Run all code until here. Click Run > Run All Above Selected Cell.  \n",
    "Then select the relevant section below*\n",
    "\n",
    "# Analysis Options:\n",
    "- [Loop for 2019 files](#Loop_2019)\n",
    "- [Single country for 2019 files](#Large_2019)\n",
    "- [Loop for 2016 files](#Loop_2016)\n",
    "- [Single country for 2016 files](#Large_2016)"
   ]
  },
  {
   "cell_type": "markdown",
   "metadata": {
    "colab_type": "text",
    "id": "WsZuYQHrJzS2"
   },
   "source": [
    "<a id='Loop_2019'></a>\n",
    "## Loop for 2019 files\n",
    "Back to [Analysis Options](#TOC)"
   ]
  },
  {
   "cell_type": "code",
   "execution_count": 51,
   "metadata": {
    "colab": {},
    "colab_type": "code",
    "id": "HeclDUc0JzS2"
   },
   "outputs": [],
   "source": [
    "# 2019 bad countries - add ISO3 country code for any country that causes an issue\n",
    "bad_countries_2019 = []"
   ]
  },
  {
   "cell_type": "code",
   "execution_count": null,
   "metadata": {
    "colab": {},
    "colab_type": "code",
    "id": "uMyVfP-JJzS5"
   },
   "outputs": [],
   "source": [
    "for shp_name, flood_name in matching_dict_2019.items():  \n",
    "    if flood_name == \"not_found\":\n",
    "        None\n",
    "        #print(f\"{shp_name} does not have flood data\")\n",
    "    elif type(flood_name) == list and not flood_name == ['Fiji_east', 'Fiji_west']:\n",
    "        print(f\"{shp_name} has multiple datasets, need to investigate\")\n",
    "    else:\n",
    "        # Skip processed countries\n",
    "        processedCountries = result['ISO3'].unique()\n",
    "        processedCountries = np.append(processedCountries, previouslyProcessed)\n",
    "\n",
    "        sub = adm.loc[adm['ADM0_NAME'] == shp_name].copy()\n",
    "        countryCode = sub['ISO3'].iloc[0]\n",
    "        countryNameInfo = pycountry.countries.get(alpha_3=countryCode)\n",
    "        \n",
    "        if not countryCode in processedCountries and not countryCode in bad_countries_2019:\n",
    "            tPrint(f'{countryCode}: {sub.shape[0]}') # start\n",
    "\n",
    "            # Adm0 fluvial and pluvial processing\n",
    "            Fluvial_outputfile, Pluvial_outputfile = adm0_processing_2019(flood_name)\n",
    "\n",
    "            # Adm1 Loop:\n",
    "            result = adm1_loop(sub, result)\n",
    "                        \n",
    "            tPrint(f\"{countryCode} - Completed\")  # end\n",
    "        else:\n",
    "            if countryCode in processedCountries:\n",
    "                tPrint(f'{countryCode} already processed')"
   ]
  },
  {
   "cell_type": "markdown",
   "metadata": {
    "colab_type": "text",
    "id": "Gn9cnSXkJzS7"
   },
   "source": [
    "<a id='Large_2019'></a>\n",
    "## Single country for 2019 files \n",
    "\n",
    "Back to [Analysis Options](#TOC)"
   ]
  },
  {
   "cell_type": "code",
   "execution_count": 75,
   "metadata": {
    "colab": {},
    "colab_type": "code",
    "id": "Sk483RtTJzS8"
   },
   "outputs": [],
   "source": [
    "# Change country name here:\n",
    "shp_name, flood_name = 'Vietnam', 'vietnam'"
   ]
  },
  {
   "cell_type": "code",
   "execution_count": 76,
   "metadata": {
    "colab": {
     "base_uri": "https://localhost:8080/",
     "height": 34
    },
    "colab_type": "code",
    "id": "tijzODIAJzS9",
    "outputId": "d417410c-faa8-4e63-d34b-ccb97585f346"
   },
   "outputs": [
    {
     "name": "stdout",
     "output_type": "stream",
     "text": [
      "16:04:24\tSSD: 10\n",
      "16:04:24\tSSD: No fluvial files found.\n",
      "16:04:24\tSSD: No pluvial files found.\n",
      "16:04:24\tSSD_1543 - adm1 other error\n",
      "16:04:24\tSSD_1544 - adm1 other error\n",
      "16:04:24\tSSD_1545 - adm1 other error\n",
      "16:04:24\tSSD_1546 - adm1 other error\n",
      "16:04:24\tSSD_1547 - adm1 other error\n",
      "16:04:24\tSSD_1548 - adm1 other error\n",
      "16:04:24\tSSD_1549 - adm1 other error\n",
      "16:04:24\tSSD_1550 - adm1 other error\n",
      "16:04:24\tSSD_1551 - adm1 other error\n",
      "16:04:24\tSSD_1552 - adm1 other error\n",
      "16:04:24\tSSD - Completed\n"
     ]
    }
   ],
   "source": [
    "sub = adm.loc[adm['ADM0_NAME'] == shp_name].copy()\n",
    "\n",
    "# Save country name\n",
    "countryCode = sub['ISO3'].iloc[0]\n",
    "countryNameInfo = pycountry.countries.get(alpha_3=countryCode)\n",
    "tPrint(f'{countryCode}: {sub.shape[0]}') \n",
    "\n",
    "# Adm0 fluvial and pluvial processing\n",
    "Fluvial_outputfile, Pluvial_outputfile = adm0_processing_2019(flood_name)\n",
    "\n",
    "# # testing for one adm1 region\n",
    "# sub = sub.iloc[[0]]\n",
    "# Adm1 data processing loop:\n",
    "result = adm1_loop(sub, result)\n",
    "\n",
    "tPrint(f\"{countryCode} - Completed\")   "
   ]
  },
  {
   "cell_type": "markdown",
   "metadata": {
    "colab_type": "text",
    "id": "o4_CugPIJzTD"
   },
   "source": [
    "<a id='Loop_2016'></a>\n",
    "## Loop for 2016 files\n",
    "\n",
    "Back to [Analysis Options](#TOC)"
   ]
  },
  {
   "cell_type": "code",
   "execution_count": null,
   "metadata": {
    "colab": {},
    "colab_type": "code",
    "id": "NiuUJ_1gJzTD"
   },
   "outputs": [],
   "source": [
    "# 2016 bad countries - add ISO3 country code for any country that causes an issue\n",
    "bad_countries_2016 = []"
   ]
  },
  {
   "cell_type": "code",
   "execution_count": null,
   "metadata": {
    "colab": {},
    "colab_type": "code",
    "id": "qd2AtXC_JzTF"
   },
   "outputs": [],
   "source": [
    "for shp_name, flood_name in matching_dict_2016.items():  \n",
    "    if flood_name == \"not_found\":\n",
    "        None\n",
    "        #print(f\"{shp_name} does not have flood data\")\n",
    "    elif type(flood_name) == list:\n",
    "        print(f\"{shp_name} has multiple datasets, need to investigate\")\n",
    "    else:\n",
    "        # Skip processed countries\n",
    "        processedCountries = result['ISO3'].unique()\n",
    "        processedCountries = np.append(processedCountries, previouslyProcessed)\n",
    "\n",
    "        sub = adm.loc[adm['ADM0_NAME'] == shp_name].copy()\n",
    "        countryCode = sub['ISO3'].iloc[0]\n",
    "        countryNameInfo = pycountry.countries.get(alpha_3=countryCode)\n",
    "        \n",
    "        if not countryCode in processedCountries and not countryCode in bad_countries_2016:\n",
    "            tPrint(f'{countryCode}: {sub.shape[0]}')    \n",
    "\n",
    "            # Adm0 fluvial and pluvial processing\n",
    "            Fluvial_outputfile, Pluvial_outputfile = adm0_processing_2016(flood_name)  \n",
    "\n",
    "            # Adm1 Loop:\n",
    "            result = adm1_loop(sub, result)\n",
    "\n",
    "            tPrint(f\"{countryCode} - Completed\")  # end\n",
    "        else:\n",
    "            if countryCode in processedCountries:\n",
    "                tPrint(f'{countryCode} already processed')  "
   ]
  },
  {
   "cell_type": "code",
   "execution_count": null,
   "metadata": {
    "colab": {},
    "colab_type": "code",
    "id": "6Cbh8xTEJzTH"
   },
   "outputs": [],
   "source": [
    "result"
   ]
  },
  {
   "cell_type": "code",
   "execution_count": null,
   "metadata": {
    "colab": {
     "base_uri": "https://localhost:8080/",
     "height": 80
    },
    "colab_type": "code",
    "id": "8-rUZxq3rZSG",
    "outputId": "cd5bd608-2db1-42c3-90e7-2d7208fae9d7"
   },
   "outputs": [],
   "source": [
    "adm.loc[adm['ADM0_NAME'] == 'Cote ]"
   ]
  },
  {
   "cell_type": "markdown",
   "metadata": {
    "colab_type": "text",
    "id": "q1dDShBSJzTK"
   },
   "source": [
    "<a id='Large_2016'></a>\n",
    "## Single country for 2016 files\n",
    "\n",
    "Back to [Analysis Options](#TOC)"
   ]
  },
  {
   "cell_type": "code",
   "execution_count": 77,
   "metadata": {
    "colab": {},
    "colab_type": "code",
    "id": "adMe4UHAJzTK"
   },
   "outputs": [],
   "source": [
    "# Change country name here:\n",
    "# shp_name, flood_name = 'South Korea', 'korea_south'\n",
    "# shp_name, flood_name = 'Cote d\\'Ivoire', 'cote_d_ivoire'\n",
    "# shp_name, flood_name = 'Equatorial Guinea', 'equatorial_guinea'\n",
    "# shp_name, flood_name = 'Iceland', 'iceland'\n",
    "shp_name, flood_name = 'South Sudan', 'sudan'"
   ]
  },
  {
   "cell_type": "code",
   "execution_count": 78,
   "metadata": {
    "colab": {
     "base_uri": "https://localhost:8080/",
     "height": 1000
    },
    "colab_type": "code",
    "id": "VErorVBDJzTM",
    "outputId": "69bf4fd4-df1e-4ee9-e9ed-8f4bc56ce2f2"
   },
   "outputs": [
    {
     "name": "stdout",
     "output_type": "stream",
     "text": [
      "16:05:09\tSSD: 10\n",
      "16:05:09\tSSD: No fluvial files found.\n",
      "16:05:09\tSSD: No pluvial files found.\n",
      "16:05:09\tSSD_1543 - adm1 other error\n",
      "16:05:09\tSSD_1544 - adm1 other error\n",
      "16:05:09\tSSD_1545 - adm1 other error\n",
      "16:05:09\tSSD_1546 - adm1 other error\n",
      "16:05:09\tSSD_1547 - adm1 other error\n",
      "16:05:09\tSSD_1548 - adm1 other error\n",
      "16:05:09\tSSD_1549 - adm1 other error\n",
      "16:05:09\tSSD_1550 - adm1 other error\n",
      "16:05:09\tSSD_1551 - adm1 other error\n",
      "16:05:09\tSSD_1552 - adm1 other error\n",
      "16:05:09\tSSD - Completed\n"
     ]
    }
   ],
   "source": [
    "sub = adm.loc[adm['ADM0_NAME'] == shp_name].copy()\n",
    "countryCode = sub['ISO3'].iloc[0]\n",
    "countryNameInfo = pycountry.countries.get(alpha_3=countryCode)\n",
    "tPrint(f'{countryCode}: {sub.shape[0]}') \n",
    "\n",
    "# Adm0 fluvial and pluvial processing\n",
    "Fluvial_outputfile, Pluvial_outputfile = adm0_processing_2016(flood_name)\n",
    "\n",
    "# # testing for one adm1 region\n",
    "# sub = sub.iloc[[0]]\n",
    "# Loop:\n",
    "result = adm1_loop(sub, result)\n",
    "\n",
    "tPrint(f\"{countryCode} - Completed\")   "
   ]
  },
  {
   "cell_type": "code",
   "execution_count": null,
   "metadata": {
    "colab": {
     "base_uri": "https://localhost:8080/",
     "height": 297
    },
    "colab_type": "code",
    "id": "k3BJDH3yyH_H",
    "outputId": "b04c73c9-9e6a-43c9-f253-b6557fe4e26d"
   },
   "outputs": [],
   "source": [
    "result"
   ]
  },
  {
   "cell_type": "markdown",
   "metadata": {
    "colab_type": "text",
    "id": "dNdGWBB8JzTT"
   },
   "source": [
    "# Merging with adm & exporting "
   ]
  },
  {
   "cell_type": "code",
   "execution_count": 115,
   "metadata": {
    "colab": {},
    "colab_type": "code",
    "id": "suO27wa0JzTU"
   },
   "outputs": [],
   "source": [
    "# removing ISO3 col because it's in the results df\n",
    "adm = adm[['ADM0_NAME', 'code', 'sample', 'region', 'geo_code2','geometry']]"
   ]
  },
  {
   "cell_type": "code",
   "execution_count": 116,
   "metadata": {
    "colab": {},
    "colab_type": "code",
    "id": "FtuwaqJ-JzTW"
   },
   "outputs": [],
   "source": [
    "# creating a merged df with only rows that have new results:\n",
    "mergedDf1 = adm.merge(result, left_index=True, right_index=True)"
   ]
  },
  {
   "cell_type": "code",
   "execution_count": 117,
   "metadata": {
    "colab": {},
    "colab_type": "code",
    "id": "WMChVWl8JzTY"
   },
   "outputs": [
    {
     "data": {
      "text/html": [
       "<div>\n",
       "<style scoped>\n",
       "    .dataframe tbody tr th:only-of-type {\n",
       "        vertical-align: middle;\n",
       "    }\n",
       "\n",
       "    .dataframe tbody tr th {\n",
       "        vertical-align: top;\n",
       "    }\n",
       "\n",
       "    .dataframe thead th {\n",
       "        text-align: right;\n",
       "    }\n",
       "</style>\n",
       "<table border=\"1\" class=\"dataframe\">\n",
       "  <thead>\n",
       "    <tr style=\"text-align: right;\">\n",
       "      <th></th>\n",
       "      <th>ADM0_NAME</th>\n",
       "      <th>code</th>\n",
       "      <th>sample</th>\n",
       "      <th>region</th>\n",
       "      <th>geo_code2</th>\n",
       "      <th>geometry</th>\n",
       "      <th>0-NoRiskPop</th>\n",
       "      <th>1-LowRiskPop</th>\n",
       "      <th>2-ModerateRiskPop</th>\n",
       "      <th>3-HighRiskPop</th>\n",
       "      <th>4-VeryHighRiskPop</th>\n",
       "      <th>5-WaterBodyPop</th>\n",
       "      <th>ISO3</th>\n",
       "    </tr>\n",
       "  </thead>\n",
       "  <tbody>\n",
       "    <tr>\n",
       "      <th>1543</th>\n",
       "      <td>South Sudan</td>\n",
       "      <td>SSD</td>\n",
       "      <td>4  Lakes</td>\n",
       "      <td>SSA</td>\n",
       "      <td>SSD_2009_ADM1_2746</td>\n",
       "      <td>POLYGON ((29.71243 7.82936, 29.72880 7.82471, ...</td>\n",
       "      <td>585609.62</td>\n",
       "      <td>83851.98</td>\n",
       "      <td>103949.76</td>\n",
       "      <td>78352.45</td>\n",
       "      <td>50030.95</td>\n",
       "      <td>999.75</td>\n",
       "      <td>SSD</td>\n",
       "    </tr>\n",
       "    <tr>\n",
       "      <th>1544</th>\n",
       "      <td>South Sudan</td>\n",
       "      <td>SSD</td>\n",
       "      <td>3  Unity</td>\n",
       "      <td>SSA</td>\n",
       "      <td>SSD_2009_ADM1_2747</td>\n",
       "      <td>POLYGON ((30.79288 9.74854, 30.79076 9.74855, ...</td>\n",
       "      <td>187537.55</td>\n",
       "      <td>51406.49</td>\n",
       "      <td>75449.21</td>\n",
       "      <td>189957.36</td>\n",
       "      <td>450801.72</td>\n",
       "      <td>1470.76</td>\n",
       "      <td>SSD</td>\n",
       "    </tr>\n",
       "    <tr>\n",
       "      <th>1545</th>\n",
       "      <td>South Sudan</td>\n",
       "      <td>SSD</td>\n",
       "      <td>2  Central Equatoria</td>\n",
       "      <td>SSA</td>\n",
       "      <td>SSD_2009_ADM1_2748</td>\n",
       "      <td>POLYGON ((31.69169 5.86563, 31.69272 5.86565, ...</td>\n",
       "      <td>1609954.38</td>\n",
       "      <td>75807.71</td>\n",
       "      <td>107257.20</td>\n",
       "      <td>52805.11</td>\n",
       "      <td>43922.11</td>\n",
       "      <td>1669.08</td>\n",
       "      <td>SSD</td>\n",
       "    </tr>\n",
       "    <tr>\n",
       "      <th>1546</th>\n",
       "      <td>South Sudan</td>\n",
       "      <td>SSD</td>\n",
       "      <td>3  Eastern Equatoria</td>\n",
       "      <td>SSA</td>\n",
       "      <td>SSD_2009_ADM1_2750</td>\n",
       "      <td>POLYGON ((35.94770 4.62000, 35.94692 4.62000, ...</td>\n",
       "      <td>5114143.50</td>\n",
       "      <td>484394.88</td>\n",
       "      <td>462542.22</td>\n",
       "      <td>127622.18</td>\n",
       "      <td>18014.25</td>\n",
       "      <td>541.59</td>\n",
       "      <td>SSD</td>\n",
       "    </tr>\n",
       "    <tr>\n",
       "      <th>1547</th>\n",
       "      <td>South Sudan</td>\n",
       "      <td>SSD</td>\n",
       "      <td>2  Jonglei</td>\n",
       "      <td>SSA</td>\n",
       "      <td>SSD_2009_ADM1_2751</td>\n",
       "      <td>POLYGON ((30.74804 9.46598, 30.75139 9.46796, ...</td>\n",
       "      <td>1068823.25</td>\n",
       "      <td>190713.08</td>\n",
       "      <td>256442.12</td>\n",
       "      <td>281408.31</td>\n",
       "      <td>236497.69</td>\n",
       "      <td>4892.21</td>\n",
       "      <td>SSD</td>\n",
       "    </tr>\n",
       "  </tbody>\n",
       "</table>\n",
       "</div>"
      ],
      "text/plain": [
       "        ADM0_NAME code                sample region           geo_code2  \\\n",
       "1543  South Sudan  SSD              4  Lakes    SSA  SSD_2009_ADM1_2746   \n",
       "1544  South Sudan  SSD              3  Unity    SSA  SSD_2009_ADM1_2747   \n",
       "1545  South Sudan  SSD  2  Central Equatoria    SSA  SSD_2009_ADM1_2748   \n",
       "1546  South Sudan  SSD  3  Eastern Equatoria    SSA  SSD_2009_ADM1_2750   \n",
       "1547  South Sudan  SSD            2  Jonglei    SSA  SSD_2009_ADM1_2751   \n",
       "\n",
       "                                               geometry  0-NoRiskPop  \\\n",
       "1543  POLYGON ((29.71243 7.82936, 29.72880 7.82471, ...    585609.62   \n",
       "1544  POLYGON ((30.79288 9.74854, 30.79076 9.74855, ...    187537.55   \n",
       "1545  POLYGON ((31.69169 5.86563, 31.69272 5.86565, ...   1609954.38   \n",
       "1546  POLYGON ((35.94770 4.62000, 35.94692 4.62000, ...   5114143.50   \n",
       "1547  POLYGON ((30.74804 9.46598, 30.75139 9.46796, ...   1068823.25   \n",
       "\n",
       "      1-LowRiskPop  2-ModerateRiskPop  3-HighRiskPop  4-VeryHighRiskPop  \\\n",
       "1543      83851.98          103949.76       78352.45           50030.95   \n",
       "1544      51406.49           75449.21      189957.36          450801.72   \n",
       "1545      75807.71          107257.20       52805.11           43922.11   \n",
       "1546     484394.88          462542.22      127622.18           18014.25   \n",
       "1547     190713.08          256442.12      281408.31          236497.69   \n",
       "\n",
       "      5-WaterBodyPop ISO3  \n",
       "1543          999.75  SSD  \n",
       "1544         1470.76  SSD  \n",
       "1545         1669.08  SSD  \n",
       "1546          541.59  SSD  \n",
       "1547         4892.21  SSD  "
      ]
     },
     "execution_count": 117,
     "metadata": {},
     "output_type": "execute_result"
    }
   ],
   "source": [
    "# checking all looks good\n",
    "mergedDf1.head()"
   ]
  },
  {
   "cell_type": "code",
   "execution_count": 118,
   "metadata": {
    "colab": {},
    "colab_type": "code",
    "id": "-UMTcrEDJzTa",
    "scrolled": true
   },
   "outputs": [
    {
     "name": "stderr",
     "output_type": "stream",
     "text": [
      "WARNING:fiona._env:Normalized/laundered field name: '0-NoRiskPop' to '0-NoRiskPo'\n",
      "WARNING:fiona._env:Normalized/laundered field name: '1-LowRiskPop' to '1-LowRiskP'\n",
      "WARNING:fiona._env:Normalized/laundered field name: '2-ModerateRiskPop' to '2-Moderate'\n",
      "WARNING:fiona._env:Normalized/laundered field name: '3-HighRiskPop' to '3-HighRisk'\n",
      "WARNING:fiona._env:Normalized/laundered field name: '4-VeryHighRiskPop' to '4-VeryHigh'\n",
      "WARNING:fiona._env:Normalized/laundered field name: '5-WaterBodyPop' to '5-WaterBod'\n"
     ]
    }
   ],
   "source": [
    "# Exporting \n",
    "mergedDf1.to_file(Results_outputFolderPath / \"SouthSudan.shp\")"
   ]
  },
  {
   "cell_type": "code",
   "execution_count": null,
   "metadata": {},
   "outputs": [],
   "source": []
  }
 ],
 "metadata": {
  "colab": {
   "collapsed_sections": [
    "odnwA1wk-Lgp",
    "ZnbOgY2O-Ve9",
    "bF3w4lURJzR2",
    "nARiFw2DJzR_",
    "Ly4wV4KuJzSE",
    "PeqA9Ww2JzSW",
    "0WtZOGfBJzSb",
    "n4-9a9HFJzSd",
    "I26r2owMJzSk",
    "77_TgT_1JzSu",
    "BxvXP4YaWhis"
   ],
   "name": "FloodRisk_loop_v10.ipynb",
   "provenance": []
  },
  "kernelspec": {
   "display_name": "Python 3",
   "language": "python",
   "name": "python3"
  },
  "language_info": {
   "codemirror_mode": {
    "name": "ipython",
    "version": 3
   },
   "file_extension": ".py",
   "mimetype": "text/x-python",
   "name": "python",
   "nbconvert_exporter": "python",
   "pygments_lexer": "ipython3",
   "version": "3.8.3"
  }
 },
 "nbformat": 4,
 "nbformat_minor": 4
}
